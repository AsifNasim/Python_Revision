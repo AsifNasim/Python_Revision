{
 "cells": [
  {
   "cell_type": "markdown",
   "metadata": {},
   "source": [
    "### Revising Python\n"
   ]
  },
  {
   "cell_type": "code",
   "execution_count": 1,
   "metadata": {},
   "outputs": [
    {
     "name": "stdout",
     "output_type": "stream",
     "text": [
      "The Zen of Python, by Tim Peters\n",
      "\n",
      "Beautiful is better than ugly.\n",
      "Explicit is better than implicit.\n",
      "Simple is better than complex.\n",
      "Complex is better than complicated.\n",
      "Flat is better than nested.\n",
      "Sparse is better than dense.\n",
      "Readability counts.\n",
      "Special cases aren't special enough to break the rules.\n",
      "Although practicality beats purity.\n",
      "Errors should never pass silently.\n",
      "Unless explicitly silenced.\n",
      "In the face of ambiguity, refuse the temptation to guess.\n",
      "There should be one-- and preferably only one --obvious way to do it.\n",
      "Although that way may not be obvious at first unless you're Dutch.\n",
      "Now is better than never.\n",
      "Although never is often better than *right* now.\n",
      "If the implementation is hard to explain, it's a bad idea.\n",
      "If the implementation is easy to explain, it may be a good idea.\n",
      "Namespaces are one honking great idea -- let's do more of those!\n"
     ]
    }
   ],
   "source": [
    "import this"
   ]
  },
  {
   "cell_type": "markdown",
   "metadata": {},
   "source": [
    "#\n"
   ]
  },
  {
   "cell_type": "markdown",
   "metadata": {},
   "source": [
    "# Identifiers"
   ]
  },
  {
   "cell_type": "markdown",
   "metadata": {},
   "source": [
    "variables--> _bookname, num1 (WE CANNOT USE SPECIAL\n",
    "CHARRACTERS--> &,%,$,#)\n",
    "\n",
    "private variable--> _ aadharmnum, _ accountnum(starts with one underscore)\n",
    "\n",
    "strongly private variable--> __ __aadharmnum, __ accountnum(starts with two underscore)\n",
    "\n",
    "special purpose--> __add__, __init__\n",
    "\n",
    "keywords--> if, while, yield\n",
    "\n",
    "functions--> print(), int(), len()\n",
    "\n",
    "classes --> Complex, Exception( STARTS WITH UPPERCASE CHARACTERS)\n",
    "\n",
    "modules --> Calender, random\n",
    "\n",
    "packages --> pillow, tkinter\n"
   ]
  },
  {
   "cell_type": "code",
   "execution_count": 4,
   "metadata": {},
   "outputs": [
    {
     "data": {
      "text/plain": [
       "['False',\n",
       " 'None',\n",
       " 'True',\n",
       " 'and',\n",
       " 'as',\n",
       " 'assert',\n",
       " 'break',\n",
       " 'class',\n",
       " 'continue',\n",
       " 'def',\n",
       " 'del',\n",
       " 'elif',\n",
       " 'else',\n",
       " 'except',\n",
       " 'finally',\n",
       " 'for',\n",
       " 'from',\n",
       " 'global',\n",
       " 'if',\n",
       " 'import',\n",
       " 'in',\n",
       " 'is',\n",
       " 'lambda',\n",
       " 'nonlocal',\n",
       " 'not',\n",
       " 'or',\n",
       " 'pass',\n",
       " 'raise',\n",
       " 'return',\n",
       " 'try',\n",
       " 'while',\n",
       " 'with',\n",
       " 'yield']"
      ]
     },
     "execution_count": 4,
     "metadata": {},
     "output_type": "execute_result"
    }
   ],
   "source": [
    "import keyword\n",
    "keyword.kwlist"
   ]
  },
  {
   "cell_type": "code",
   "execution_count": 5,
   "metadata": {},
   "outputs": [
    {
     "name": "stdout",
     "output_type": "stream",
     "text": [
      "Enter your name?  Asif\n",
      "hello Asif\n",
      "welcome bro\n"
     ]
    }
   ],
   "source": [
    "def yourname(name):\n",
    "    print(\"hello\", name)\n",
    "    print(\"welcome bro\")\n",
    "    return\n",
    "\n",
    "name=input(\"Enter your name?  \")\n",
    "yourname(name)"
   ]
  },
  {
   "cell_type": "markdown",
   "metadata": {},
   "source": [
    "A variable is a name given to an object, it could be anything string, integer et cetra"
   ]
  },
  {
   "cell_type": "code",
   "execution_count": 6,
   "metadata": {},
   "outputs": [
    {
     "data": {
      "text/plain": [
       "str"
      ]
     },
     "execution_count": 6,
     "metadata": {},
     "output_type": "execute_result"
    }
   ],
   "source": [
    "name= \"asif nasim\"\n",
    "type(name)"
   ]
  },
  {
   "cell_type": "markdown",
   "metadata": {},
   "source": [
    "type shows the type of identifier it is "
   ]
  },
  {
   "cell_type": "code",
   "execution_count": 11,
   "metadata": {},
   "outputs": [
    {
     "data": {
      "text/plain": [
       "int"
      ]
     },
     "execution_count": 11,
     "metadata": {},
     "output_type": "execute_result"
    }
   ],
   "source": [
    "a=1\n",
    "b=1.1\n",
    "c=2+3j\n",
    "d=\"asif\"\n",
    "e=-9\n",
    "#type(a)\n",
    "type(b)\n",
    "type(c)\n",
    "type(d)\n",
    "type(e)\n",
    "#type(f)\n",
    "\n"
   ]
  },
  {
   "cell_type": "code",
   "execution_count": 12,
   "metadata": {},
   "outputs": [
    {
     "data": {
      "text/plain": [
       "str"
      ]
     },
     "execution_count": 12,
     "metadata": {},
     "output_type": "execute_result"
    }
   ],
   "source": [
    "type(d)"
   ]
  },
  {
   "cell_type": "code",
   "execution_count": 13,
   "metadata": {},
   "outputs": [
    {
     "data": {
      "text/plain": [
       "int"
      ]
     },
     "execution_count": 13,
     "metadata": {},
     "output_type": "execute_result"
    }
   ],
   "source": [
    "type(e)"
   ]
  },
  {
   "cell_type": "code",
   "execution_count": 14,
   "metadata": {},
   "outputs": [
    {
     "data": {
      "text/plain": [
       "float"
      ]
     },
     "execution_count": 14,
     "metadata": {},
     "output_type": "execute_result"
    }
   ],
   "source": [
    "type(b)"
   ]
  },
  {
   "cell_type": "code",
   "execution_count": 15,
   "metadata": {},
   "outputs": [
    {
     "data": {
      "text/plain": [
       "complex"
      ]
     },
     "execution_count": 15,
     "metadata": {},
     "output_type": "execute_result"
    }
   ],
   "source": [
    "type(c)"
   ]
  },
  {
   "cell_type": "markdown",
   "metadata": {},
   "source": [
    "Examples of complex number\n",
    "\n",
    "1+2j\n",
    "\n",
    "\n",
    "3.11e-6+ 4j\n"
   ]
  },
  {
   "cell_type": "code",
   "execution_count": 16,
   "metadata": {},
   "outputs": [
    {
     "data": {
      "text/plain": [
       "0"
      ]
     },
     "execution_count": 16,
     "metadata": {},
     "output_type": "execute_result"
    }
   ],
   "source": [
    "int(0.33)"
   ]
  },
  {
   "cell_type": "code",
   "execution_count": 17,
   "metadata": {},
   "outputs": [
    {
     "data": {
      "text/plain": [
       "12"
      ]
     },
     "execution_count": 17,
     "metadata": {},
     "output_type": "execute_result"
    }
   ],
   "source": [
    "int('12')"
   ]
  },
  {
   "cell_type": "code",
   "execution_count": 18,
   "metadata": {},
   "outputs": [
    {
     "data": {
      "text/plain": [
       "10"
      ]
     },
     "execution_count": 18,
     "metadata": {},
     "output_type": "execute_result"
    }
   ],
   "source": [
    "int('12',8)"
   ]
  },
  {
   "cell_type": "code",
   "execution_count": 19,
   "metadata": {},
   "outputs": [
    {
     "data": {
      "text/plain": [
       "18"
      ]
     },
     "execution_count": 19,
     "metadata": {},
     "output_type": "execute_result"
    }
   ],
   "source": [
    "int('12',16)"
   ]
  },
  {
   "cell_type": "code",
   "execution_count": 20,
   "metadata": {},
   "outputs": [
    {
     "data": {
      "text/plain": [
       "0.001"
      ]
     },
     "execution_count": 20,
     "metadata": {},
     "output_type": "execute_result"
    }
   ],
   "source": [
    "float('1e-003')"
   ]
  },
  {
   "cell_type": "code",
   "execution_count": 22,
   "metadata": {},
   "outputs": [
    {
     "data": {
      "text/plain": [
       "(3+4j)"
      ]
     },
     "execution_count": 22,
     "metadata": {},
     "output_type": "execute_result"
    }
   ],
   "source": [
    "complex(3,4)"
   ]
  },
  {
   "cell_type": "code",
   "execution_count": 24,
   "metadata": {},
   "outputs": [
    {
     "data": {
      "text/plain": [
       "(-2.5+1.5j)"
      ]
     },
     "execution_count": 24,
     "metadata": {},
     "output_type": "execute_result"
    }
   ],
   "source": [
    "complex(1.5j,2.5j)\n"
   ]
  },
  {
   "cell_type": "markdown",
   "metadata": {},
   "source": [
    "why?\n"
   ]
  },
  {
   "cell_type": "code",
   "execution_count": 25,
   "metadata": {},
   "outputs": [
    {
     "data": {
      "text/plain": [
       "(56+0j)"
      ]
     },
     "execution_count": 25,
     "metadata": {},
     "output_type": "execute_result"
    }
   ],
   "source": [
    "complex(56)"
   ]
  },
  {
   "cell_type": "markdown",
   "metadata": {},
   "source": [
    "### String datatypes"
   ]
  },
  {
   "cell_type": "code",
   "execution_count": 27,
   "metadata": {
    "collapsed": true
   },
   "outputs": [],
   "source": [
    "# we can use single, double, triple quotes\n",
    "\n",
    "# triple quotes are used for multiline strings like lyrics\n"
   ]
  },
  {
   "cell_type": "markdown",
   "metadata": {},
   "source": [
    "### Placeholder"
   ]
  },
  {
   "cell_type": "code",
   "execution_count": 32,
   "metadata": {},
   "outputs": [
    {
     "ename": "SyntaxError",
     "evalue": "invalid syntax (<ipython-input-32-1490862255e1>, line 4)",
     "output_type": "error",
     "traceback": [
      "\u001b[1;36m  File \u001b[1;32m\"<ipython-input-32-1490862255e1>\"\u001b[1;36m, line \u001b[1;32m4\u001b[0m\n\u001b[1;33m    'when %s was a child he does not know that he will become one of the best %s',%(name, designation)\u001b[0m\n\u001b[1;37m                                                                                  ^\u001b[0m\n\u001b[1;31mSyntaxError\u001b[0m\u001b[1;31m:\u001b[0m invalid syntax\n"
     ]
    }
   ],
   "source": [
    "name= 'asif'\n",
    "designation='data scientist'\n",
    "\n",
    "\n",
    "memory"
   ]
  },
  {
   "cell_type": "code",
   "execution_count": 33,
   "metadata": {
    "collapsed": true
   },
   "outputs": [],
   "source": [
    "name= 'asif'"
   ]
  },
  {
   "cell_type": "code",
   "execution_count": 34,
   "metadata": {
    "collapsed": true
   },
   "outputs": [],
   "source": [
    "designation='data scientist'"
   ]
  },
  {
   "cell_type": "code",
   "execution_count": 42,
   "metadata": {},
   "outputs": [
    {
     "name": "stdout",
     "output_type": "stream",
     "text": [
      "when asif was a child he does not know that he will become one of the best data scientist\n"
     ]
    }
   ],
   "source": [
    "memory=\"when %s was a child he does not know that he will become one of the best %s\"%(name, designation)\n",
    "print(memory)"
   ]
  },
  {
   "cell_type": "code",
   "execution_count": null,
   "metadata": {
    "collapsed": true
   },
   "outputs": [],
   "source": []
  },
  {
   "cell_type": "code",
   "execution_count": null,
   "metadata": {
    "collapsed": true
   },
   "outputs": [],
   "source": []
  },
  {
   "cell_type": "code",
   "execution_count": 40,
   "metadata": {},
   "outputs": [
    {
     "data": {
      "text/plain": [
       "'a=    1 b=   11 c=   111'"
      ]
     },
     "execution_count": 40,
     "metadata": {},
     "output_type": "execute_result"
    }
   ],
   "source": [
    "a=1\n",
    "b=11\n",
    "c=111\n",
    "\"a=%5d b=%5d c= %5d\"%(a,b,c)"
   ]
  },
  {
   "cell_type": "code",
   "execution_count": 51,
   "metadata": {},
   "outputs": [
    {
     "name": "stdout",
     "output_type": "stream",
     "text": [
      "      3.14 percentage of sailors are pi-rates\n"
     ]
    }
   ],
   "source": [
    "mynum=3.1415\n",
    "example=\"%10.2f percentage of sailors are pi-rates\" %(mynum)\n",
    "print(example)"
   ]
  },
  {
   "cell_type": "markdown",
   "metadata": {},
   "source": [
    "10 is for left padding, .2 is the number of didigs it will show after decimal place"
   ]
  },
  {
   "cell_type": "code",
   "execution_count": 52,
   "metadata": {},
   "outputs": [
    {
     "data": {
      "text/plain": [
       "'          asif nasim'"
      ]
     },
     "execution_count": 52,
     "metadata": {},
     "output_type": "execute_result"
    }
   ],
   "source": [
    "'%20s' %('asif nasim')"
   ]
  },
  {
   "cell_type": "markdown",
   "metadata": {},
   "source": [
    "for left padding\n"
   ]
  },
  {
   "cell_type": "code",
   "execution_count": 53,
   "metadata": {},
   "outputs": [
    {
     "data": {
      "text/plain": [
       "'asif nasim          '"
      ]
     },
     "execution_count": 53,
     "metadata": {},
     "output_type": "execute_result"
    }
   ],
   "source": [
    "'%-20s' %('asif nasim')"
   ]
  },
  {
   "cell_type": "markdown",
   "metadata": {},
   "source": [
    "for right padding"
   ]
  },
  {
   "cell_type": "code",
   "execution_count": 56,
   "metadata": {},
   "outputs": [
    {
     "data": {
      "text/plain": [
       "'nas'"
      ]
     },
     "execution_count": 56,
     "metadata": {},
     "output_type": "execute_result"
    }
   ],
   "source": [
    "'%.3s' %('nasim')"
   ]
  },
  {
   "cell_type": "raw",
   "metadata": {},
   "source": [
    "string has been truncated to first 3 characters \n"
   ]
  },
  {
   "cell_type": "markdown",
   "metadata": {},
   "source": [
    "## Sequence datatypes"
   ]
  },
  {
   "cell_type": "markdown",
   "metadata": {},
   "source": [
    "__list and tuples hold the multiple data item together__\n",
    "\n",
    "_which may or may not of the same types_\n",
    "\n",
    "_which contains numeric and string datatypes_"
   ]
  },
  {
   "cell_type": "code",
   "execution_count": 61,
   "metadata": {
    "collapsed": true
   },
   "outputs": [],
   "source": [
    "#example of list\n",
    "list1=['pepper', 'black','1.2gms']\n",
    "#in square brackets\n",
    "\n",
    "tuple1=('salt','1','kgs','white')\n",
    "# parantheses are optional"
   ]
  },
  {
   "cell_type": "markdown",
   "metadata": {},
   "source": [
    "_tuple--> Immutable_\n",
    "\n",
    "_list--> Mutable_"
   ]
  },
  {
   "cell_type": "code",
   "execution_count": 59,
   "metadata": {},
   "outputs": [
    {
     "data": {
      "text/plain": [
       "'1.2gms'"
      ]
     },
     "execution_count": 59,
     "metadata": {},
     "output_type": "execute_result"
    }
   ],
   "source": [
    " list1[2]"
   ]
  },
  {
   "cell_type": "code",
   "execution_count": 60,
   "metadata": {},
   "outputs": [
    {
     "data": {
      "text/plain": [
       "'black'"
      ]
     },
     "execution_count": 60,
     "metadata": {},
     "output_type": "execute_result"
    }
   ],
   "source": [
    "list1[1]"
   ]
  },
  {
   "cell_type": "code",
   "execution_count": 70,
   "metadata": {
    "collapsed": true
   },
   "outputs": [],
   "source": [
    "tuple1=(1,)\n",
    "#we have to put comma between them"
   ]
  },
  {
   "cell_type": "code",
   "execution_count": 71,
   "metadata": {},
   "outputs": [
    {
     "data": {
      "text/plain": [
       "1"
      ]
     },
     "execution_count": 71,
     "metadata": {},
     "output_type": "execute_result"
    }
   ],
   "source": [
    "tuple1[0]"
   ]
  },
  {
   "cell_type": "markdown",
   "metadata": {},
   "source": [
    "## len(), max(), min()"
   ]
  },
  {
   "cell_type": "markdown",
   "metadata": {},
   "source": [
    "__len()--> how many element does a list or tuple has__\n",
    "\n",
    "__max()--> it shows highest number  if a list or tuple contains numeric items__,\n",
    "__in case of string it returns the last element__\n",
    "\n",
    "__min()--> it shows lowest number, if a list or tuple contains numeric values__\n",
    "__in case of string it returns the last element__\n",
    "\n"
   ]
  },
  {
   "cell_type": "code",
   "execution_count": 74,
   "metadata": {
    "collapsed": true
   },
   "outputs": [],
   "source": [
    "l2=['g',12,'r',45,43,8,'u',35]\n"
   ]
  },
  {
   "cell_type": "code",
   "execution_count": 76,
   "metadata": {},
   "outputs": [
    {
     "ename": "TypeError",
     "evalue": "'>' not supported between instances of 'int' and 'str'",
     "output_type": "error",
     "traceback": [
      "\u001b[1;31m---------------------------------------------------------------------------\u001b[0m",
      "\u001b[1;31mTypeError\u001b[0m                                 Traceback (most recent call last)",
      "\u001b[1;32m<ipython-input-76-75d27a550d26>\u001b[0m in \u001b[0;36m<module>\u001b[1;34m()\u001b[0m\n\u001b[1;32m----> 1\u001b[1;33m \u001b[0mmax\u001b[0m\u001b[1;33m(\u001b[0m\u001b[0ml2\u001b[0m\u001b[1;33m)\u001b[0m\u001b[1;33m\u001b[0m\u001b[0m\n\u001b[0m",
      "\u001b[1;31mTypeError\u001b[0m: '>' not supported between instances of 'int' and 'str'"
     ]
    }
   ],
   "source": [
    "max(l2)"
   ]
  },
  {
   "cell_type": "markdown",
   "metadata": {},
   "source": [
    "## Dictionary Datatypes"
   ]
  },
  {
   "cell_type": "markdown",
   "metadata": {},
   "source": [
    "__each item is key:value pair__\n",
    "\n",
    "_eg:-iccpoints = {'India': 125, 'new zealand': 110}_ \n",
    "\n",
    "__key--> Immutable__\n",
    "\n",
    "_for eg:- Number, string, Tuple are immutable while list are not_"
   ]
  },
  {
   "cell_type": "code",
   "execution_count": 89,
   "metadata": {
    "collapsed": true
   },
   "outputs": [],
   "source": [
    "points={'p1':[10,10],'p1':[10,20,30]}"
   ]
  },
  {
   "cell_type": "code",
   "execution_count": 92,
   "metadata": {},
   "outputs": [
    {
     "data": {
      "text/plain": [
       "{'p1': [10, 20, 30]}"
      ]
     },
     "execution_count": 92,
     "metadata": {},
     "output_type": "execute_result"
    }
   ],
   "source": [
    "points"
   ]
  },
  {
   "cell_type": "markdown",
   "metadata": {},
   "source": [
    "__A key cannot appear more than once in one dictionary, however only the last value will retain__"
   ]
  },
  {
   "cell_type": "code",
   "execution_count": 93,
   "metadata": {},
   "outputs": [
    {
     "ename": "KeyError",
     "evalue": "0",
     "output_type": "error",
     "traceback": [
      "\u001b[1;31m---------------------------------------------------------------------------\u001b[0m",
      "\u001b[1;31mKeyError\u001b[0m                                  Traceback (most recent call last)",
      "\u001b[1;32m<ipython-input-93-deb753a01697>\u001b[0m in \u001b[0;36m<module>\u001b[1;34m()\u001b[0m\n\u001b[1;32m----> 1\u001b[1;33m \u001b[0mpoints\u001b[0m\u001b[1;33m[\u001b[0m\u001b[1;36m0\u001b[0m\u001b[1;33m]\u001b[0m\u001b[1;33m\u001b[0m\u001b[0m\n\u001b[0m",
      "\u001b[1;31mKeyError\u001b[0m: 0"
     ]
    }
   ],
   "source": [
    "points[0]"
   ]
  },
  {
   "cell_type": "markdown",
   "metadata": {},
   "source": [
    "__Dictionary is an NOT an ordered collection__"
   ]
  },
  {
   "cell_type": "code",
   "execution_count": 95,
   "metadata": {},
   "outputs": [
    {
     "data": {
      "text/plain": [
       "[10, 20, 30]"
      ]
     },
     "execution_count": 95,
     "metadata": {},
     "output_type": "execute_result"
    }
   ],
   "source": [
    "points.get(\"p1\")"
   ]
  },
  {
   "cell_type": "markdown",
   "metadata": {},
   "source": [
    "__Dictionary can be accessed using _get()_ method__"
   ]
  },
  {
   "cell_type": "markdown",
   "metadata": {},
   "source": [
    "### Updating values in dictionary"
   ]
  },
  {
   "cell_type": "code",
   "execution_count": 97,
   "metadata": {
    "collapsed": true
   },
   "outputs": [],
   "source": [
    "iccpoints={'India':135, 'South Africa': 120, 'England': 110}\n"
   ]
  },
  {
   "cell_type": "code",
   "execution_count": 104,
   "metadata": {},
   "outputs": [
    {
     "data": {
      "text/plain": [
       "130"
      ]
     },
     "execution_count": 104,
     "metadata": {},
     "output_type": "execute_result"
    }
   ],
   "source": [
    "iccpoints.get(\"India\")"
   ]
  },
  {
   "cell_type": "markdown",
   "metadata": {},
   "source": [
    "__Getter__"
   ]
  },
  {
   "cell_type": "code",
   "execution_count": 101,
   "metadata": {
    "collapsed": true
   },
   "outputs": [],
   "source": [
    "iccpoints['India']=130"
   ]
  },
  {
   "cell_type": "code",
   "execution_count": 103,
   "metadata": {},
   "outputs": [
    {
     "data": {
      "text/plain": [
       "130"
      ]
     },
     "execution_count": 103,
     "metadata": {},
     "output_type": "execute_result"
    }
   ],
   "source": [
    "iccpoints.get('India')"
   ]
  },
  {
   "cell_type": "markdown",
   "metadata": {},
   "source": [
    "__Setter__"
   ]
  },
  {
   "cell_type": "code",
   "execution_count": 105,
   "metadata": {
    "collapsed": true
   },
   "outputs": [],
   "source": [
    "#"
   ]
  },
  {
   "cell_type": "markdown",
   "metadata": {},
   "source": [
    "__Assigning a new key__"
   ]
  },
  {
   "cell_type": "code",
   "execution_count": 107,
   "metadata": {
    "collapsed": true
   },
   "outputs": [],
   "source": [
    "iccpoints['Australia']=95"
   ]
  },
  {
   "cell_type": "code",
   "execution_count": 120,
   "metadata": {},
   "outputs": [
    {
     "data": {
      "text/plain": [
       "95"
      ]
     },
     "execution_count": 120,
     "metadata": {},
     "output_type": "execute_result"
    }
   ],
   "source": [
    "iccpoints.get('Australia')"
   ]
  },
  {
   "cell_type": "code",
   "execution_count": 128,
   "metadata": {
    "collapsed": true
   },
   "outputs": [],
   "source": [
    "iccpoints[\"South Africa\"]=177"
   ]
  },
  {
   "cell_type": "code",
   "execution_count": 130,
   "metadata": {
    "collapsed": true
   },
   "outputs": [],
   "source": [
    "iccpoints['zimbabwe']=122"
   ]
  },
  {
   "cell_type": "code",
   "execution_count": 131,
   "metadata": {
    "collapsed": true
   },
   "outputs": [],
   "source": [
    "iccpoints['New Zealand']=115"
   ]
  },
  {
   "cell_type": "code",
   "execution_count": 113,
   "metadata": {},
   "outputs": [
    {
     "data": {
      "text/plain": [
       "4"
      ]
     },
     "execution_count": 113,
     "metadata": {},
     "output_type": "execute_result"
    }
   ],
   "source": [
    "len(iccpoints)"
   ]
  },
  {
   "cell_type": "markdown",
   "metadata": {},
   "source": [
    "__It shows the number of key value pair in the dictionary__"
   ]
  },
  {
   "cell_type": "code",
   "execution_count": 115,
   "metadata": {},
   "outputs": [
    {
     "data": {
      "text/plain": [
       "'South Africa'"
      ]
     },
     "execution_count": 115,
     "metadata": {},
     "output_type": "execute_result"
    }
   ],
   "source": [
    "max(iccpoints)"
   ]
  },
  {
   "cell_type": "markdown",
   "metadata": {},
   "source": [
    "__According to number or in lexicographical order__"
   ]
  },
  {
   "cell_type": "code",
   "execution_count": 117,
   "metadata": {},
   "outputs": [
    {
     "data": {
      "text/plain": [
       "'Australia'"
      ]
     },
     "execution_count": 117,
     "metadata": {},
     "output_type": "execute_result"
    }
   ],
   "source": [
    "min(iccpoints)"
   ]
  },
  {
   "cell_type": "markdown",
   "metadata": {},
   "source": [
    "##### Deleting a key:value pair (using del(), pop(), clear() )"
   ]
  },
  {
   "cell_type": "code",
   "execution_count": 123,
   "metadata": {},
   "outputs": [
    {
     "data": {
      "text/plain": [
       "{'Australia': 95, 'England': 110, 'India': 130, 'South Africa': 177}"
      ]
     },
     "execution_count": 123,
     "metadata": {},
     "output_type": "execute_result"
    }
   ],
   "source": [
    "iccpoints"
   ]
  },
  {
   "cell_type": "code",
   "execution_count": 132,
   "metadata": {
    "collapsed": true
   },
   "outputs": [],
   "source": [
    "del iccpoints[\"South Africa\"]\n",
    "##Another method for deleting is  iccpoints.pop(\"zimbabwe\")"
   ]
  },
  {
   "cell_type": "code",
   "execution_count": 127,
   "metadata": {},
   "outputs": [
    {
     "data": {
      "text/plain": [
       "{'Australia': 95, 'England': 110, 'India': 130}"
      ]
     },
     "execution_count": 127,
     "metadata": {},
     "output_type": "execute_result"
    }
   ],
   "source": [
    "iccpoints"
   ]
  },
  {
   "cell_type": "markdown",
   "metadata": {},
   "source": [
    "__South Africa has been deleted successfully and removed from the mememory__"
   ]
  },
  {
   "cell_type": "code",
   "execution_count": 134,
   "metadata": {
    "collapsed": true
   },
   "outputs": [],
   "source": [
    "# how to clear key: value pairs from dictionary"
   ]
  },
  {
   "cell_type": "code",
   "execution_count": 136,
   "metadata": {
    "collapsed": true
   },
   "outputs": [],
   "source": [
    "iccpoints.clear()"
   ]
  },
  {
   "cell_type": "code",
   "execution_count": 138,
   "metadata": {},
   "outputs": [
    {
     "data": {
      "text/plain": [
       "{}"
      ]
     },
     "execution_count": 138,
     "metadata": {},
     "output_type": "execute_result"
    }
   ],
   "source": [
    "iccpoints"
   ]
  },
  {
   "cell_type": "markdown",
   "metadata": {},
   "source": [
    "__See it doesnot contain a key value pair__"
   ]
  },
  {
   "cell_type": "markdown",
   "metadata": {},
   "source": [
    "#  Programming with python"
   ]
  },
  {
   "cell_type": "code",
   "execution_count": 1,
   "metadata": {},
   "outputs": [
    {
     "name": "stdout",
     "output_type": "stream",
     "text": [
      "Enter the price?122\n",
      "Enter the number of things you want?12\n",
      "A discount of 10% is available\n",
      "your total amount is Rs.  1317.6\n"
     ]
    }
   ],
   "source": [
    "price=int(input(\"Enter the price?\"))\n",
    "qty=int(input(\"Enter the number of things you want?\"))\n",
    "\n",
    "amt= price*qty\n",
    "\n",
    "if amt>1000:\n",
    "    print(\"A discount of 10% is available\")\n",
    "    discount= amt*10/100\n",
    "    amt-=discount\n",
    "print(\"your total amount is Rs. \", amt)"
   ]
  },
  {
   "cell_type": "markdown",
   "metadata": {},
   "source": [
    "def azureml_main(expr_as_frame):\n",
    "    import pandas as pd\n",
    "    expr=expr_as_frame.iar[0,0]\n",
    "    result=pd.Dataframe({'Expr':[expr],\\\n",
    "                        'Result': [eval(expr)]})\n",
    "    return result,\n"
   ]
  },
  {
   "cell_type": "markdown",
   "metadata": {},
   "source": [
    "__Some random example__"
   ]
  },
  {
   "cell_type": "markdown",
   "metadata": {},
   "source": [
    "__OPERATORS IN PYTHON__"
   ]
  },
  {
   "cell_type": "code",
   "execution_count": 2,
   "metadata": {},
   "outputs": [
    {
     "name": "stdout",
     "output_type": "stream",
     "text": [
      "amount:10000\n"
     ]
    }
   ],
   "source": [
    "price= 1000\n",
    "qty=10\n",
    "amt=price*qty\n",
    "print(\"amount:{}\".format(amt))"
   ]
  },
  {
   "cell_type": "markdown",
   "metadata": {},
   "source": [
    "__LOGICAL OPERATOR( and, or, not)__"
   ]
  },
  {
   "cell_type": "code",
   "execution_count": null,
   "metadata": {
    "collapsed": true
   },
   "outputs": [],
   "source": [
    "'''num = int(input(\"Enter a number! \"))\n",
    "if(num%2)==0:\n",
    "    print(\"The given number is even:\", num)\n",
    "else:\n",
    "    print(\"The given number is odd\",num)\n",
    "   '''    "
   ]
  },
  {
   "cell_type": "code",
   "execution_count": 3,
   "metadata": {},
   "outputs": [
    {
     "name": "stdout",
     "output_type": "stream",
     "text": [
      "Enter a number! 132\n",
      "132 is even\n"
     ]
    }
   ],
   "source": [
    "num=int(input(\"Enter a number! \"))\n",
    "\n",
    "if(num%2==0):\n",
    "    print(\"{0} is even\".format(num))\n",
    "else:\n",
    "    print(\"{0} is odd:\".format(num))\n",
    "    "
   ]
  },
  {
   "cell_type": "code",
   "execution_count": 5,
   "metadata": {},
   "outputs": [
    {
     "name": "stdout",
     "output_type": "stream",
     "text": [
      "Enter the price of donut! 133\n",
      "Enter the quantity of donut!6\n",
      "Discount of 5% is applicable:\n",
      "Amount payable: 758.1\n"
     ]
    }
   ],
   "source": [
    "price=int(input(\"Enter the price of donut! \"))\n",
    "qty= int(input(\"Enter the quantity of donut!\"))\n",
    "amount= price*qty\n",
    "\n",
    "if amount>1000:\n",
    "    print(\"Discount of 10% is applicable:\")\n",
    "    discount= amount*10/100\n",
    "    amount-=discount\n",
    "    \n",
    "elif amount>500:\n",
    "    print(\"Discount of 5% is applicable:\")\n",
    "    discount= amount*5/100\n",
    "    amount-=discount\n",
    "\n",
    "elif amount>200:\n",
    "    print(\"Discount of 2% is applicable:\")\n",
    "    discount= amount*2/100\n",
    "    amount-=discount\n",
    "\n",
    "elif amount>100:\n",
    "    print(\"Discount of 1% is applicable:\")\n",
    "    discount= amount*1/100\n",
    "    amount-=discount\n",
    "else:\n",
    "    print(\"Oops! sorry you cannot avail any discount\")\n",
    "\n",
    "print(\"Amount payable:\", amount)\n"
   ]
  },
  {
   "cell_type": "markdown",
   "metadata": {},
   "source": [
    "__WHILE AND FOR LOOP__\n",
    " \n",
    "_while expr==True:_\n",
    "\n",
    "     stmt1\n",
    "     stmt2\n",
    "     stmt3"
   ]
  },
  {
   "cell_type": "code",
   "execution_count": 1,
   "metadata": {},
   "outputs": [
    {
     "name": "stdout",
     "output_type": "stream",
     "text": [
      "Keep going, total left 15\n",
      "Keep going, total left 14\n",
      "Keep going, total left 13\n",
      "Keep going, total left 12\n",
      "Keep going, total left 11\n",
      "Keep going, total left 10\n",
      "Keep going, total left 9\n",
      "Keep going, total left 8\n",
      "Keep going, total left 7\n",
      "Keep going, total left 6\n",
      "Keep going, total left 5\n",
      "Keep going, total left 4\n",
      "Keep going, total left 3\n",
      "Keep going, total left 2\n",
      "Keep going, total left 1\n",
      "Done! Now switch your arms\n"
     ]
    }
   ],
   "source": [
    "count= 15\n",
    "while (count!=0):\n",
    "    print(\"Keep going, total left\", count)\n",
    "    count-=1\n",
    "print(\"Done! Now switch your arms\")"
   ]
  },
  {
   "cell_type": "code",
   "execution_count": 8,
   "metadata": {},
   "outputs": [
    {
     "name": "stdout",
     "output_type": "stream",
     "text": [
      "Enter the number of squats you did on each day \n",
      ". \n",
      "Squats on day1 1234\n",
      "Squats on day2 123\n",
      "Squats on day3 123\n",
      "Squats on day4 12\n",
      "Squats on day5 12\n",
      "Squats on day6 12\n",
      "Squats on day7 123\n",
      "In the last 7 day, you did an aveage of 234.14285714285714 squats.\n"
     ]
    }
   ],
   "source": [
    "#defining variables\n",
    "day=0\n",
    "total=0\n",
    "squats=0\n",
    "\n",
    "print(\"Enter the number of squats you did on each day \\n. \")\n",
    "\n",
    "#while loop and the loop body\n",
    "while (day<=6):\n",
    "    day=day+1\n",
    "    squats=int(input(\"Squats on day{} \".format(day)))\n",
    "    total+=squats\n",
    "    \n",
    "    \n",
    "#statement outside of the while loop\n",
    "avg= total/day\n",
    "\n",
    "print(\"In the last {} day, you did an aveage of {} squats.\".format(day,avg))\n",
    "\n"
   ]
  },
  {
   "cell_type": "markdown",
   "metadata": {
    "collapsed": true
   },
   "source": [
    " __For loop__\n",
    "\n",
    "_for--> keyword_\n",
    "\n",
    "_symbol--> variable_\n",
    "\n",
    "_in --> keyword preceeding sequence_\n",
    "\n",
    "_\"Internshala\" --. sequence_\n",
    "\n",
    "_ : --> end of statement_"
   ]
  },
  {
   "cell_type": "code",
   "execution_count": 11,
   "metadata": {},
   "outputs": [
    {
     "name": "stdout",
     "output_type": "stream",
     "text": [
      "C\n",
      "O\n",
      "D\n",
      "E\n",
      "H\n",
      "A\n",
      "C\n",
      "K\n",
      "E\n",
      "R\n"
     ]
    }
   ],
   "source": [
    "for symbol in \"CODEHACKER\":\n",
    "    print(symbol)"
   ]
  },
  {
   "cell_type": "markdown",
   "metadata": {},
   "source": [
    "__for loop works for the sequence of anytype like STRING, LIST, TUPLE__"
   ]
  },
  {
   "cell_type": "code",
   "execution_count": 13,
   "metadata": {},
   "outputs": [
    {
     "name": "stdout",
     "output_type": "stream",
     "text": [
      "1\n",
      "2\n",
      "3\n",
      "4\n",
      "5\n",
      "6\n"
     ]
    }
   ],
   "source": [
    "for num in range(1,7):\n",
    "    print(num)"
   ]
  },
  {
   "cell_type": "markdown",
   "metadata": {},
   "source": [
    "\n",
    "__Ending value of the range is executed__\n",
    "\n",
    "_range(start, stop, step)_"
   ]
  },
  {
   "cell_type": "code",
   "execution_count": 20,
   "metadata": {},
   "outputs": [
    {
     "name": "stdout",
     "output_type": "stream",
     "text": [
      "1\n",
      "5\n",
      "9\n",
      "13\n",
      "17\n",
      "\n",
      "End of sequence\n"
     ]
    }
   ],
   "source": [
    "for x in range(1,20,4):\n",
    "    print(x)\n",
    "print(\"\\nEnd of sequence\")"
   ]
  },
  {
   "cell_type": "markdown",
   "metadata": {},
   "source": [
    "__calculate factorial__"
   ]
  },
  {
   "cell_type": "code",
   "execution_count": 30,
   "metadata": {},
   "outputs": [
    {
     "name": "stdout",
     "output_type": "stream",
     "text": [
      "Enter the number! 12\n",
      "Factorial of 12 is 479001600. \n"
     ]
    }
   ],
   "source": [
    "num= int(input(\"Enter the number! \"))\n",
    "\n",
    "fact=1\n",
    "\n",
    "for x in range(1,num+1):\n",
    "    fact=fact*x\n",
    "print(\"Factorial of {} is {}. \".format(num,fact))"
   ]
  },
  {
   "cell_type": "markdown",
   "metadata": {},
   "source": [
    "__USING THE FOR LOOP FOR SEQUENCE DATA TYPES__"
   ]
  },
  {
   "cell_type": "code",
   "execution_count": 37,
   "metadata": {},
   "outputs": [
    {
     "name": "stdout",
     "output_type": "stream",
     "text": [
      "Average of the numbers [10, 20, 30, 40, 50] is 30.0\n"
     ]
    }
   ],
   "source": [
    "#average of the numbetr in the list\n",
    "total = 0\n",
    "#defining list\n",
    "number=[10,20,30,40,50]\n",
    "\n",
    "for num in number:\n",
    "    total=total+num\n",
    "    \n",
    "avg=total/len(number)\n",
    "print(\"Average of the numbers {} is {}\".format(number,avg))"
   ]
  },
  {
   "cell_type": "code",
   "execution_count": 39,
   "metadata": {},
   "outputs": [
    {
     "data": {
      "text/plain": [
       "dict_items([('USA', 'New York'), ('France', 'Paris'), ('Japan', 'Tokyo'), ('India', 'New Delhi')])"
      ]
     },
     "execution_count": 39,
     "metadata": {},
     "output_type": "execute_result"
    }
   ],
   "source": [
    "#print all the key -value pairs in the dictionary\n",
    "capitals={\"USA\":\"New York\",\"France\":\"Paris\",\"Japan\":\"Tokyo\",'India':'New Delhi'}\n",
    "capitals.items()"
   ]
  },
  {
   "cell_type": "code",
   "execution_count": 41,
   "metadata": {},
   "outputs": [
    {
     "name": "stdout",
     "output_type": "stream",
     "text": [
      "The country and its capitals are('USA', 'New York')\n",
      "The country and its capitals are('France', 'Paris')\n",
      "The country and its capitals are('Japan', 'Tokyo')\n",
      "The country and its capitals are('India', 'New Delhi')\n"
     ]
    }
   ],
   "source": [
    "#print all the key -value pairs in the dictionary\n",
    "capitals={\"USA\":\"New York\",\"France\":\"Paris\",\"Japan\":\"Tokyo\",'India':'New Delhi'}\n",
    "\n",
    "for country in capitals.items():\n",
    "    print(\"The country and its capitals are{}\".format(country))\n",
    "    "
   ]
  },
  {
   "cell_type": "markdown",
   "metadata": {},
   "source": [
    "_the output is in the form of tuples_"
   ]
  },
  {
   "cell_type": "code",
   "execution_count": 46,
   "metadata": {},
   "outputs": [
    {
     "name": "stdout",
     "output_type": "stream",
     "text": [
      "The capital of USA is New York \n",
      "The capital of France is Paris \n",
      "The capital of Japan is Tokyo \n",
      "The capital of India is New Delhi \n"
     ]
    }
   ],
   "source": [
    "#more refine code\n",
    "#print all the key -value pairs in the dictionary\n",
    "capitals={\"USA\":\"New York\",\"France\":\"Paris\",\"Japan\":\"Tokyo\",'India':'New Delhi'}\n",
    "\n",
    "for country,capital in capitals.items():\n",
    "    print(\"The capital of {} is {} \".format(country,capital))\n",
    "    "
   ]
  },
  {
   "cell_type": "markdown",
   "metadata": {},
   "source": [
    "__Dictionary Methods__\n",
    "\n",
    "_keys()_ --> _returns a list of keys_\n",
    "\n",
    "_values()_ --> _returns a list of values_\n",
    "\n",
    "_get()_ --> _Fetches the value corresponding to the specified key_"
   ]
  },
  {
   "cell_type": "code",
   "execution_count": 48,
   "metadata": {},
   "outputs": [
    {
     "name": "stdout",
     "output_type": "stream",
     "text": [
      "The capital of USA is New York\n",
      "The capital of France is Paris\n",
      "The capital of Japan is Tokyo\n",
      "The capital of India is New Delhi\n"
     ]
    }
   ],
   "source": [
    "#print all the key -value pairs in the dictionary\n",
    "capitals={\"USA\":\"New York\",\"France\":\"Paris\",\"Japan\":\"Tokyo\",'India':'New Delhi'}\n",
    "\n",
    "for k in capitals.keys():\n",
    "    print(\"The capital of {} is {}\".format(k,capitals.get(k)))\n",
    "    "
   ]
  },
  {
   "cell_type": "code",
   "execution_count": 50,
   "metadata": {},
   "outputs": [
    {
     "name": "stdout",
     "output_type": "stream",
     "text": [
      "This is iteration number 1 in the for loop:\n",
      "This is iteration number 2 in the for loop:\n",
      "This is iteration number 3 in the for loop:\n",
      "This is iteration number 4 in the for loop:\n",
      "This is the else block statement\n",
      "End of all the loop\n"
     ]
    }
   ],
   "source": [
    "#Else after for iteration\n",
    "for x in range(1,5):\n",
    "    print(\"This is iteration number {} in the for loop:\". format(x))\n",
    "else:\n",
    "    print(\"This is the else block statement\")\n",
    "print(\"End of all the loop\")"
   ]
  },
  {
   "cell_type": "code",
   "execution_count": 4,
   "metadata": {},
   "outputs": [
    {
     "name": "stdout",
     "output_type": "stream",
     "text": [
      "This is the iteration number 2 \n",
      "This is the iteration number 3 \n",
      "This is the iteration number 4 \n",
      "This is the iteration number 5 \n",
      "This is the iteration number 6 \n",
      "This is the iteration number 7 \n",
      "This is the else block statement\n",
      "End of all the statement\n"
     ]
    }
   ],
   "source": [
    "#else with the while loop\n",
    "\n",
    "x=0\n",
    "while x<=5:\n",
    "    x=x+1\n",
    "    print(\"This is the iteration number {} \". format(x+1))\n",
    "\n",
    "else:\n",
    "    print(\"This is the else block statement\")\n",
    "\n",
    "print(\"End of all the statement\")"
   ]
  },
  {
   "cell_type": "markdown",
   "metadata": {},
   "source": [
    "## Loop Control Statement\n",
    "\n",
    "__Break and Continue__\n",
    "\n",
    "__Break__\n",
    "\n",
    "_for x in sequence:_\n",
    "\n",
    "    stmt1\n",
    "    if expr2:\n",
    "       break\n",
    "    stmt2  \n",
    "\n",
    "_stmt3_\n",
    "    "
   ]
  },
  {
   "cell_type": "markdown",
   "metadata": {},
   "source": [
    "#if we want the loop to complete early without undergoing all the iterains\\n then we can use BREAK\n",
    "\n",
    "_any pending iteration is abandoned_\n"
   ]
  },
  {
   "cell_type": "markdown",
   "metadata": {},
   "source": [
    "#### Prime number"
   ]
  },
  {
   "cell_type": "code",
   "execution_count": 16,
   "metadata": {},
   "outputs": [
    {
     "name": "stdout",
     "output_type": "stream",
     "text": [
      "Enter the number you want to check?11\n",
      "the given number 11 is prime number\n"
     ]
    }
   ],
   "source": [
    "num= int(input(\"Enter the number you want to check?\"))\n",
    "\n",
    "for x in range(2,num):\n",
    "    if(num%x==0):\n",
    "        print(\"The given number {} is not a prime number\".format(num))\n",
    "        break\n",
    "else:\n",
    "    print(\"the given number {} is prime number\". format(num))\n"
   ]
  },
  {
   "cell_type": "markdown",
   "metadata": {},
   "source": [
    "__Continue__\n",
    "\n",
    "_for x in sequence:_\n",
    "\n",
    "    stmt1\n",
    "    if expr2:\n",
    "        continue\n",
    "    stmt2"
   ]
  },
  {
   "cell_type": "markdown",
   "metadata": {},
   "source": [
    "#### Prime Factor "
   ]
  },
  {
   "cell_type": "code",
   "execution_count": 7,
   "metadata": {},
   "outputs": [
    {
     "name": "stdout",
     "output_type": "stream",
     "text": [
      "Enter any number! 60\n",
      " The prime factors are 2\n",
      " The prime factors are 2\n",
      " The prime factors are 3\n",
      " The prime factors are 5\n"
     ]
    }
   ],
   "source": [
    "\n",
    "num=int(input(\"Enter any number! \"))\n",
    "d=2\n",
    "\n",
    "while num>1:\n",
    "    \n",
    "    if (num%d==0):\n",
    "        print(\" The prime factors are {}\".format(d))\n",
    "        num=num/d\n",
    "        continue\n",
    "    else:\n",
    "        d=d+1\n",
    "    "
   ]
  },
  {
   "cell_type": "markdown",
   "metadata": {},
   "source": [
    "## Using Functions"
   ]
  },
  {
   "cell_type": "code",
   "execution_count": 12,
   "metadata": {},
   "outputs": [
    {
     "name": "stdout",
     "output_type": "stream",
     "text": [
      "My name is asif\n"
     ]
    }
   ],
   "source": [
    "def sayname():\n",
    "    print(\"My name is asif\")\n",
    "    return #return the execution to calling environment\n",
    "\n",
    "sayname() #calling function"
   ]
  },
  {
   "cell_type": "markdown",
   "metadata": {},
   "source": [
    "__FUNCTION WITH ARGUMENTS__"
   ]
  },
  {
   "cell_type": "code",
   "execution_count": 18,
   "metadata": {},
   "outputs": [
    {
     "name": "stdout",
     "output_type": "stream",
     "text": [
      "Enter your name! dsjhd\n",
      "Hey dsjhd, how was your day?\n"
     ]
    }
   ],
   "source": [
    "def sayhello(name):# formal arguments \n",
    "    print(\"Hey {}, how was your day?\".format(name))\n",
    "    return\n",
    "\n",
    "you=input(\"Enter your name! \")\n",
    "\n",
    "sayhello(you) #actual arguments"
   ]
  },
  {
   "cell_type": "code",
   "execution_count": 8,
   "metadata": {},
   "outputs": [
    {
     "name": "stdout",
     "output_type": "stream",
     "text": [
      "Gift money from family?1234\n",
      "Savings12345\n",
      "hard earned money12345\n",
      "you can get the new smartphone\n",
      "Enter the price of Iphone1234567\n",
      "Congratulations! You can buy the latest Phone\n"
     ]
    }
   ],
   "source": [
    "#Do I have enough money to buy the latest smartphone\n",
    "def verdict(m1,m2,m3,m4=15000):\n",
    "    total=m1+m2+m3\n",
    "    if total>m4:\n",
    "        print(\"you can get the new smartphone\")\n",
    "    else:\n",
    "        print(\"Better luck next time!\")\n",
    "    \n",
    "gift=int(input(\"Gift money from family?\"))\n",
    "\n",
    "saving=int(input(\"Savings\"))\n",
    "\n",
    "internship=int(input(\"hard earned money\"))\n",
    "\n",
    "verdict(gift,saving,internship,10000)\n",
    "\n",
    "def phone(p1):\n",
    "    \n",
    "    total=897878\n",
    "    if (p1>total):\n",
    "        print(\"Congratulations! You can buy the latest Phone\")\n",
    "    else:\n",
    "        print(\"you have to Save more money, and spend wisely\")\n",
    "\n",
    "\n",
    "\n",
    "iphone=int(input(\"Enter the price of Iphone\"))\n",
    "\n",
    "phone(iphone)\n",
    "\n",
    "\n",
    "\n",
    "\n",
    "\n",
    "    \n",
    "\n",
    "      \n",
    "      "
   ]
  },
  {
   "cell_type": "markdown",
   "metadata": {},
   "source": [
    "__default argument will always come after implicit argument __\n",
    "\n",
    "_and it will overwrite the default given value, if we change them while calling function, otherwise the default value is used_"
   ]
  },
  {
   "cell_type": "code",
   "execution_count": 14,
   "metadata": {},
   "outputs": [
    {
     "name": "stdout",
     "output_type": "stream",
     "text": [
      "I wish I had Google phone with 6 GB of RAM \n"
     ]
    }
   ],
   "source": [
    "def myphone(brand, ram):\n",
    "    print(\"I wish I had {:s} phone with {:d} GB of RAM \".format(brand,ram))\n",
    "    return\n",
    "    \n",
    "myphone(ram=6,brand=\"Google\")"
   ]
  },
  {
   "cell_type": "markdown",
   "metadata": {},
   "source": [
    "#### Local and Global variable"
   ]
  },
  {
   "cell_type": "code",
   "execution_count": 18,
   "metadata": {},
   "outputs": [
    {
     "ename": "NameError",
     "evalue": "name 'm1' is not defined",
     "output_type": "error",
     "traceback": [
      "\u001b[1;31m---------------------------------------------------------------------------\u001b[0m",
      "\u001b[1;31mNameError\u001b[0m                                 Traceback (most recent call last)",
      "\u001b[1;32m<ipython-input-18-3c02521cbcd1>\u001b[0m in \u001b[0;36m<module>\u001b[1;34m()\u001b[0m\n\u001b[0;32m      2\u001b[0m     \u001b[0mm1\u001b[0m\u001b[1;33m=\u001b[0m\u001b[1;36m7\u001b[0m\u001b[1;33m\u001b[0m\u001b[0m\n\u001b[0;32m      3\u001b[0m     \u001b[0mprint\u001b[0m\u001b[1;33m(\u001b[0m\u001b[1;34m\"My age  is\"\u001b[0m\u001b[1;33m,\u001b[0m \u001b[0mm1\u001b[0m\u001b[1;33m)\u001b[0m\u001b[1;33m\u001b[0m\u001b[0m\n\u001b[1;32m----> 4\u001b[1;33m \u001b[0mmyage\u001b[0m\u001b[1;33m(\u001b[0m\u001b[0mm1\u001b[0m\u001b[1;33m)\u001b[0m\u001b[1;33m\u001b[0m\u001b[0m\n\u001b[0m",
      "\u001b[1;31mNameError\u001b[0m: name 'm1' is not defined"
     ]
    }
   ],
   "source": [
    "def myage(m1):\n",
    "    m1=7\n",
    "    print(\"My age  is\", m1)\n",
    "myage(m1)"
   ]
  },
  {
   "cell_type": "markdown",
   "metadata": {},
   "source": [
    "It is local to the variable"
   ]
  },
  {
   "cell_type": "code",
   "execution_count": 23,
   "metadata": {},
   "outputs": [
    {
     "name": "stdout",
     "output_type": "stream",
     "text": [
      "My age locally  12\n",
      " My age globally or outside the function 7\n"
     ]
    }
   ],
   "source": [
    "age=7\n",
    "def myage():\n",
    "    age=12\n",
    "    print(\"My age locally \",age)\n",
    "    return\n",
    "myage()\n",
    "\n",
    "print(\" My age globally or outside the function\", age)\n",
    "#here the the variable age can be called globally or externally"
   ]
  },
  {
   "cell_type": "markdown",
   "metadata": {},
   "source": [
    "__Global varible with its inbuilt function __"
   ]
  },
  {
   "cell_type": "code",
   "execution_count": 26,
   "metadata": {},
   "outputs": [
    {
     "name": "stdout",
     "output_type": "stream",
     "text": [
      "{'__name__': '__main__', '__doc__': 'Automatically created module for IPython interactive environment', '__package__': None, '__loader__': None, '__spec__': None, '__builtin__': <module 'builtins' (built-in)>, '__builtins__': <module 'builtins' (built-in)>, '_ih': ['', '#Do I have enough money to buy the latest smartphone\\ndef verdict(m1,m2,m3):\\n    total=m1+m2+m3\\n    if total>16000:\\n        print(\"you can get the new smartphone\")\\n    \\ngift=int(input(\"Gift money from family?\"))\\n\\nsaving=int(input(\"Savings\"))\\n\\ninternship=int(input(\"hard earned money\"))\\n\\nverdict(gift,saving,internship)\\n\\ndef phone(p1):\\n    \\n    total=897878\\n    if (p1>total):\\n        print(\"Congratulations! You can buy the latest Phone\")\\n    else:\\n        print(\"Save more money, and spend wisely\")\\n\\n\\n\\niphone=int(input(\"Enter the price of Iphone\"))\\n\\nphone(iphone)\\n\\n\\n\\n\\n\\n    \\n\\n      \\n      ', '#Do I have enough money to buy the latest smartphone\\ndef verdict(m1,m2,m3):\\n    total=m1+m2+m3\\n    if total>16000:\\n        print(\"you can get the new smartphone\")\\n    \\ngift=int(input(\"Gift money from family?\"))\\n\\nsaving=int(input(\"Savings\"))\\n\\ninternship=int(input(\"hard earned money\"))\\n\\nverdict(gift,saving,internship)\\n\\ndef phone(p1):\\n    \\n    total=897878\\n    if (p1>total):\\n        print(\"Congratulations! You can buy the latest Phone\")\\n    else:\\n        print(\"Save more money, and spend wisely\")\\n\\n\\n\\niphone=int(input(\"Enter the price of Iphone\"))\\n\\nphone(iphone)\\n\\n\\n\\n\\n\\n    \\n\\n      \\n      ', '#Do I have enough money to buy the latest smartphone\\ndef verdict(m1,m2,m3):\\n    total=m1+m2+m3\\n    if total>16000:\\n        print(\"you can get the new smartphone\")\\n    \\ngift=int(input(\"Gift money from family?\"))\\n\\nsaving=int(input(\"Savings\"))\\n\\ninternship=int(input(\"hard earned money\"))\\n\\nverdict(gift,saving,internship)\\n\\ndef phone(p1):\\n    \\n    total=897878\\n    if (p1>total):\\n        print(\"Congratulations! You can buy the latest Phone\")\\n    else:\\n        print(\"Save more money, and spend wisely\")\\n\\n\\n\\niphone=int(input(\"Enter the price of Iphone\"))\\n\\nphone(iphone)\\n\\n\\n\\n\\n\\n    \\n\\n      \\n      ', '#Do I have enough money to buy the latest smartphone\\ndef verdict(m1,m2,m3,m4=15000):\\n    total=m1+m2+m3\\n    if total>m4:\\n        print(\"you can get the new smartphone\")\\n    \\ngift=int(input(\"Gift money from family?\"))\\n\\nsaving=int(input(\"Savings\"))\\n\\ninternship=int(input(\"hard earned money\"))\\n\\nverdict(gift,saving,internship)\\n\\ndef phone(p1):\\n    \\n    total=897878\\n    if (p1>total):\\n        print(\"Congratulations! You can buy the latest Phone\")\\n    else:\\n        print(\"Save more money, and spend wisely\")\\n\\n\\n\\niphone=int(input(\"Enter the price of Iphone\"))\\n\\nphone(iphone)\\n\\n\\n\\n\\n\\n    \\n\\n      \\n      ', '#Do I have enough money to buy the latest smartphone\\ndef verdict(m1,m2,m3,m4=15000):\\n    total=m1+m2+m3\\n    if total>m4:\\n        print(\"you can get the new smartphone\")\\n    \\ngift=int(input(\"Gift money from family?\"))\\n\\nsaving=int(input(\"Savings\"))\\n\\ninternship=int(input(\"hard earned money\"))\\n\\nverdict(gift,saving,internship,10000)\\n\\ndef phone(p1):\\n    \\n    total=897878\\n    if (p1>total):\\n        print(\"Congratulations! You can buy the latest Phone\")\\n    else:\\n        print(\"Save more money, and spend wisely\")\\n\\n\\n\\niphone=int(input(\"Enter the price of Iphone\"))\\n\\nphone(iphone)\\n\\n\\n\\n\\n\\n    \\n\\n      \\n      ', '#Do I have enough money to buy the latest smartphone\\ndef verdict(m1,m2,m3,m4=15000):\\n    total=m1+m2+m3\\n    if total>m4:\\n        print(\"you can get the new smartphone\")\\'\\n    else:\\n        print(\"Better luck next time!\")\\n    \\ngift=int(input(\"Gift money from family?\"))\\n\\nsaving=int(input(\"Savings\"))\\n\\ninternship=int(input(\"hard earned money\"))\\n\\nverdict(gift,saving,internship,10000)\\n\\ndef phone(p1):\\n    \\n    total=897878\\n    if (p1>total):\\n        print(\"Congratulations! You can buy the latest Phone\")\\n    else:\\n        print(\"Save more money, and spend wisely\")\\n\\n\\n\\niphone=int(input(\"Enter the price of Iphone\"))\\n\\nphone(iphone)\\n\\n\\n\\n\\n\\n    \\n\\n      \\n      ', '#Do I have enough money to buy the latest smartphone\\ndef verdict(m1,m2,m3,m4=15000):\\n    total=m1+m2+m3\\n    if total>m4:\\n        print(\"you can get the new smartphone\")\\n    else:\\n        print(\"Better luck next time!\")\\n    \\ngift=int(input(\"Gift money from family?\"))\\n\\nsaving=int(input(\"Savings\"))\\n\\ninternship=int(input(\"hard earned money\"))\\n\\nverdict(gift,saving,internship,10000)\\n\\ndef phone(p1):\\n    \\n    total=897878\\n    if (p1>total):\\n        print(\"Congratulations! You can buy the latest Phone\")\\n    else:\\n        print(\"Save more money, and spend wisely\")\\n\\n\\n\\niphone=int(input(\"Enter the price of Iphone\"))\\n\\nphone(iphone)\\n\\n\\n\\n\\n\\n    \\n\\n      \\n      ', '#Do I have enough money to buy the latest smartphone\\ndef verdict(m1,m2,m3,m4=15000):\\n    total=m1+m2+m3\\n    if total>m4:\\n        print(\"you can get the new smartphone\")\\n    else:\\n        print(\"Better luck next time!\")\\n    \\ngift=int(input(\"Gift money from family?\"))\\n\\nsaving=int(input(\"Savings\"))\\n\\ninternship=int(input(\"hard earned money\"))\\n\\nverdict(gift,saving,internship,10000)\\n\\ndef phone(p1):\\n    \\n    total=897878\\n    if (p1>total):\\n        print(\"Congratulations! You can buy the latest Phone\")\\n    else:\\n        print(\"you have to Save more money, and spend wisely\")\\n\\n\\n\\niphone=int(input(\"Enter the price of Iphone\"))\\n\\nphone(iphone)\\n\\n\\n\\n\\n\\n    \\n\\n      \\n      ', 'def myphone(brand, ram):\\n    print(\"I wish I had {} phone with {} GB of RAM \".format(brand,ram))\\n    return\\n    \\nmyphone(\"Google\",6)', 'def myphone(brand, ram):\\n    print(\"I wish I had {} phone with {} GB of RAM \".format(brand,ram))\\n    return\\n    \\nmyphone(6,\"Google\")', 'def myphone(brand, ram):\\n    print(\"I wish I had {} phone with {} GB of RAM \".format(brand,ram))\\n    return\\n    \\nmyphone(6,\"Google\")', 'def myphone(brand, ram):\\n    print(\"I wish I had {:s} phone with {:d} GB of RAM \".format(brand,ram))\\n    return\\n    \\nmyphone(6,\"Google\")', 'def myphone(brand, ram):\\n    print(\"I wish I had {:s} phone with {:d} GB of RAM \".format(brand,ram))\\n    return\\n    \\nmyphone(ram=6,brand=\"Google\")', 'def myphone(brand, ram):\\n    print(\"I wish I had {:s} phone with {:d} GB of RAM \".format(brand,ram))\\n    return\\n    \\nmyphone(ram=6,brand=\"Google\")', 'def myage(m1):\\n    m1=7\\n    print(\"My age  is\", m1)', 'def myage(m1):\\n    m1=7\\n    print(\"My age  is\", m1)\\nmyage(m1)', 'def myage(m1):\\n    m1=7\\n    print(\"My age  is\", m1)\\nmyage()', 'def myage(m1):\\n    m1=7\\n    print(\"My age  is\", m1)\\nmyage(m1)', 'age=7\\ndef myage():\\n    age=7\\n    print(\"My age locally \",age)\\n    return\\nmyage()', 'age=7\\ndef myage():\\n    age=7\\n    print(\"My age locally \",age)\\n    return\\nmyage()\\n\\nprint(\" My age globally\", age)\\n#here the the variable age can be called globally or externally', 'age=7\\ndef myage():\\n    age=12\\n    print(\"My age locally \",age)\\n    return\\nmyage()\\n\\nprint(\" My age globally\", age)\\n#here the the variable age can be called globally or externally', 'age=7\\ndef myage():\\n    age=12\\n    print(\"My age locally \",age)\\n    return\\nmyage()\\n\\nprint(\" My age globally or outside the function\", age)\\n#here the the variable age can be called globally or externally', 'age=7\\ndef myage():\\n    age=12\\n    print(\"My age locally \",age)\\n    return\\nmyage()\\n\\nprint(\" My age globally or outside the function\", age)\\n#here the the variable age can be called globally or externally', 'alpha=1\\nbeta=2\\ngamma=3\\n\\nglobals()', 'alpha=1\\nbeta=2\\ngamma=3\\n\\nprint(globals())', 'alpha=1\\nbeta=2\\ngamma=3\\n\\nprint(globals())'], '_oh': {24: {...}}, '_dh': ['C:\\\\Users\\\\Asif Naseem'], '_sh': <module 'IPython.core.shadowns' from 'C:\\\\Users\\\\Asif Naseem\\\\Anaconda3\\\\lib\\\\site-packages\\\\IPython\\\\core\\\\shadowns.py'>, 'In': ['', '#Do I have enough money to buy the latest smartphone\\ndef verdict(m1,m2,m3):\\n    total=m1+m2+m3\\n    if total>16000:\\n        print(\"you can get the new smartphone\")\\n    \\ngift=int(input(\"Gift money from family?\"))\\n\\nsaving=int(input(\"Savings\"))\\n\\ninternship=int(input(\"hard earned money\"))\\n\\nverdict(gift,saving,internship)\\n\\ndef phone(p1):\\n    \\n    total=897878\\n    if (p1>total):\\n        print(\"Congratulations! You can buy the latest Phone\")\\n    else:\\n        print(\"Save more money, and spend wisely\")\\n\\n\\n\\niphone=int(input(\"Enter the price of Iphone\"))\\n\\nphone(iphone)\\n\\n\\n\\n\\n\\n    \\n\\n      \\n      ', '#Do I have enough money to buy the latest smartphone\\ndef verdict(m1,m2,m3):\\n    total=m1+m2+m3\\n    if total>16000:\\n        print(\"you can get the new smartphone\")\\n    \\ngift=int(input(\"Gift money from family?\"))\\n\\nsaving=int(input(\"Savings\"))\\n\\ninternship=int(input(\"hard earned money\"))\\n\\nverdict(gift,saving,internship)\\n\\ndef phone(p1):\\n    \\n    total=897878\\n    if (p1>total):\\n        print(\"Congratulations! You can buy the latest Phone\")\\n    else:\\n        print(\"Save more money, and spend wisely\")\\n\\n\\n\\niphone=int(input(\"Enter the price of Iphone\"))\\n\\nphone(iphone)\\n\\n\\n\\n\\n\\n    \\n\\n      \\n      ', '#Do I have enough money to buy the latest smartphone\\ndef verdict(m1,m2,m3):\\n    total=m1+m2+m3\\n    if total>16000:\\n        print(\"you can get the new smartphone\")\\n    \\ngift=int(input(\"Gift money from family?\"))\\n\\nsaving=int(input(\"Savings\"))\\n\\ninternship=int(input(\"hard earned money\"))\\n\\nverdict(gift,saving,internship)\\n\\ndef phone(p1):\\n    \\n    total=897878\\n    if (p1>total):\\n        print(\"Congratulations! You can buy the latest Phone\")\\n    else:\\n        print(\"Save more money, and spend wisely\")\\n\\n\\n\\niphone=int(input(\"Enter the price of Iphone\"))\\n\\nphone(iphone)\\n\\n\\n\\n\\n\\n    \\n\\n      \\n      ', '#Do I have enough money to buy the latest smartphone\\ndef verdict(m1,m2,m3,m4=15000):\\n    total=m1+m2+m3\\n    if total>m4:\\n        print(\"you can get the new smartphone\")\\n    \\ngift=int(input(\"Gift money from family?\"))\\n\\nsaving=int(input(\"Savings\"))\\n\\ninternship=int(input(\"hard earned money\"))\\n\\nverdict(gift,saving,internship)\\n\\ndef phone(p1):\\n    \\n    total=897878\\n    if (p1>total):\\n        print(\"Congratulations! You can buy the latest Phone\")\\n    else:\\n        print(\"Save more money, and spend wisely\")\\n\\n\\n\\niphone=int(input(\"Enter the price of Iphone\"))\\n\\nphone(iphone)\\n\\n\\n\\n\\n\\n    \\n\\n      \\n      ', '#Do I have enough money to buy the latest smartphone\\ndef verdict(m1,m2,m3,m4=15000):\\n    total=m1+m2+m3\\n    if total>m4:\\n        print(\"you can get the new smartphone\")\\n    \\ngift=int(input(\"Gift money from family?\"))\\n\\nsaving=int(input(\"Savings\"))\\n\\ninternship=int(input(\"hard earned money\"))\\n\\nverdict(gift,saving,internship,10000)\\n\\ndef phone(p1):\\n    \\n    total=897878\\n    if (p1>total):\\n        print(\"Congratulations! You can buy the latest Phone\")\\n    else:\\n        print(\"Save more money, and spend wisely\")\\n\\n\\n\\niphone=int(input(\"Enter the price of Iphone\"))\\n\\nphone(iphone)\\n\\n\\n\\n\\n\\n    \\n\\n      \\n      ', '#Do I have enough money to buy the latest smartphone\\ndef verdict(m1,m2,m3,m4=15000):\\n    total=m1+m2+m3\\n    if total>m4:\\n        print(\"you can get the new smartphone\")\\'\\n    else:\\n        print(\"Better luck next time!\")\\n    \\ngift=int(input(\"Gift money from family?\"))\\n\\nsaving=int(input(\"Savings\"))\\n\\ninternship=int(input(\"hard earned money\"))\\n\\nverdict(gift,saving,internship,10000)\\n\\ndef phone(p1):\\n    \\n    total=897878\\n    if (p1>total):\\n        print(\"Congratulations! You can buy the latest Phone\")\\n    else:\\n        print(\"Save more money, and spend wisely\")\\n\\n\\n\\niphone=int(input(\"Enter the price of Iphone\"))\\n\\nphone(iphone)\\n\\n\\n\\n\\n\\n    \\n\\n      \\n      ', '#Do I have enough money to buy the latest smartphone\\ndef verdict(m1,m2,m3,m4=15000):\\n    total=m1+m2+m3\\n    if total>m4:\\n        print(\"you can get the new smartphone\")\\n    else:\\n        print(\"Better luck next time!\")\\n    \\ngift=int(input(\"Gift money from family?\"))\\n\\nsaving=int(input(\"Savings\"))\\n\\ninternship=int(input(\"hard earned money\"))\\n\\nverdict(gift,saving,internship,10000)\\n\\ndef phone(p1):\\n    \\n    total=897878\\n    if (p1>total):\\n        print(\"Congratulations! You can buy the latest Phone\")\\n    else:\\n        print(\"Save more money, and spend wisely\")\\n\\n\\n\\niphone=int(input(\"Enter the price of Iphone\"))\\n\\nphone(iphone)\\n\\n\\n\\n\\n\\n    \\n\\n      \\n      ', '#Do I have enough money to buy the latest smartphone\\ndef verdict(m1,m2,m3,m4=15000):\\n    total=m1+m2+m3\\n    if total>m4:\\n        print(\"you can get the new smartphone\")\\n    else:\\n        print(\"Better luck next time!\")\\n    \\ngift=int(input(\"Gift money from family?\"))\\n\\nsaving=int(input(\"Savings\"))\\n\\ninternship=int(input(\"hard earned money\"))\\n\\nverdict(gift,saving,internship,10000)\\n\\ndef phone(p1):\\n    \\n    total=897878\\n    if (p1>total):\\n        print(\"Congratulations! You can buy the latest Phone\")\\n    else:\\n        print(\"you have to Save more money, and spend wisely\")\\n\\n\\n\\niphone=int(input(\"Enter the price of Iphone\"))\\n\\nphone(iphone)\\n\\n\\n\\n\\n\\n    \\n\\n      \\n      ', 'def myphone(brand, ram):\\n    print(\"I wish I had {} phone with {} GB of RAM \".format(brand,ram))\\n    return\\n    \\nmyphone(\"Google\",6)', 'def myphone(brand, ram):\\n    print(\"I wish I had {} phone with {} GB of RAM \".format(brand,ram))\\n    return\\n    \\nmyphone(6,\"Google\")', 'def myphone(brand, ram):\\n    print(\"I wish I had {} phone with {} GB of RAM \".format(brand,ram))\\n    return\\n    \\nmyphone(6,\"Google\")', 'def myphone(brand, ram):\\n    print(\"I wish I had {:s} phone with {:d} GB of RAM \".format(brand,ram))\\n    return\\n    \\nmyphone(6,\"Google\")', 'def myphone(brand, ram):\\n    print(\"I wish I had {:s} phone with {:d} GB of RAM \".format(brand,ram))\\n    return\\n    \\nmyphone(ram=6,brand=\"Google\")', 'def myphone(brand, ram):\\n    print(\"I wish I had {:s} phone with {:d} GB of RAM \".format(brand,ram))\\n    return\\n    \\nmyphone(ram=6,brand=\"Google\")', 'def myage(m1):\\n    m1=7\\n    print(\"My age  is\", m1)', 'def myage(m1):\\n    m1=7\\n    print(\"My age  is\", m1)\\nmyage(m1)', 'def myage(m1):\\n    m1=7\\n    print(\"My age  is\", m1)\\nmyage()', 'def myage(m1):\\n    m1=7\\n    print(\"My age  is\", m1)\\nmyage(m1)', 'age=7\\ndef myage():\\n    age=7\\n    print(\"My age locally \",age)\\n    return\\nmyage()', 'age=7\\ndef myage():\\n    age=7\\n    print(\"My age locally \",age)\\n    return\\nmyage()\\n\\nprint(\" My age globally\", age)\\n#here the the variable age can be called globally or externally', 'age=7\\ndef myage():\\n    age=12\\n    print(\"My age locally \",age)\\n    return\\nmyage()\\n\\nprint(\" My age globally\", age)\\n#here the the variable age can be called globally or externally', 'age=7\\ndef myage():\\n    age=12\\n    print(\"My age locally \",age)\\n    return\\nmyage()\\n\\nprint(\" My age globally or outside the function\", age)\\n#here the the variable age can be called globally or externally', 'age=7\\ndef myage():\\n    age=12\\n    print(\"My age locally \",age)\\n    return\\nmyage()\\n\\nprint(\" My age globally or outside the function\", age)\\n#here the the variable age can be called globally or externally', 'alpha=1\\nbeta=2\\ngamma=3\\n\\nglobals()', 'alpha=1\\nbeta=2\\ngamma=3\\n\\nprint(globals())', 'alpha=1\\nbeta=2\\ngamma=3\\n\\nprint(globals())'], 'Out': {24: {...}}, 'get_ipython': <bound method InteractiveShell.get_ipython of <ipykernel.zmqshell.ZMQInteractiveShell object at 0x000001B81FBF4D30>>, 'exit': <IPython.core.autocall.ZMQExitAutocall object at 0x000001B81FC47160>, 'quit': <IPython.core.autocall.ZMQExitAutocall object at 0x000001B81FC47160>, '_': {...}, '__': '', '___': '', '_i': 'alpha=1\\nbeta=2\\ngamma=3\\n\\nprint(globals())', '_ii': 'alpha=1\\nbeta=2\\ngamma=3\\n\\nglobals()', '_iii': 'age=7\\ndef myage():\\n    age=12\\n    print(\"My age locally \",age)\\n    return\\nmyage()\\n\\nprint(\" My age globally or outside the function\", age)\\n#here the the variable age can be called globally or externally', '_i1': '#Do I have enough money to buy the latest smartphone\\ndef verdict(m1,m2,m3):\\n    total=m1+m2+m3\\n    if total>16000:\\n        print(\"you can get the new smartphone\")\\n    \\ngift=int(input(\"Gift money from family?\"))\\n\\nsaving=int(input(\"Savings\"))\\n\\ninternship=int(input(\"hard earned money\"))\\n\\nverdict(gift,saving,internship)\\n\\ndef phone(p1):\\n    \\n    total=897878\\n    if (p1>total):\\n        print(\"Congratulations! You can buy the latest Phone\")\\n    else:\\n        print(\"Save more money, and spend wisely\")\\n\\n\\n\\niphone=int(input(\"Enter the price of Iphone\"))\\n\\nphone(iphone)\\n\\n\\n\\n\\n\\n    \\n\\n      \\n      ', 'verdict': <function verdict at 0x000001B81FD4DE18>, 'gift': 1234, 'saving': 12345, 'internship': 12345, 'phone': <function phone at 0x000001B81FD4DEA0>, 'iphone': 1234567, '_i2': '#Do I have enough money to buy the latest smartphone\\ndef verdict(m1,m2,m3):\\n    total=m1+m2+m3\\n    if total>16000:\\n        print(\"you can get the new smartphone\")\\n    \\ngift=int(input(\"Gift money from family?\"))\\n\\nsaving=int(input(\"Savings\"))\\n\\ninternship=int(input(\"hard earned money\"))\\n\\nverdict(gift,saving,internship)\\n\\ndef phone(p1):\\n    \\n    total=897878\\n    if (p1>total):\\n        print(\"Congratulations! You can buy the latest Phone\")\\n    else:\\n        print(\"Save more money, and spend wisely\")\\n\\n\\n\\niphone=int(input(\"Enter the price of Iphone\"))\\n\\nphone(iphone)\\n\\n\\n\\n\\n\\n    \\n\\n      \\n      ', '_i3': '#Do I have enough money to buy the latest smartphone\\ndef verdict(m1,m2,m3):\\n    total=m1+m2+m3\\n    if total>16000:\\n        print(\"you can get the new smartphone\")\\n    \\ngift=int(input(\"Gift money from family?\"))\\n\\nsaving=int(input(\"Savings\"))\\n\\ninternship=int(input(\"hard earned money\"))\\n\\nverdict(gift,saving,internship)\\n\\ndef phone(p1):\\n    \\n    total=897878\\n    if (p1>total):\\n        print(\"Congratulations! You can buy the latest Phone\")\\n    else:\\n        print(\"Save more money, and spend wisely\")\\n\\n\\n\\niphone=int(input(\"Enter the price of Iphone\"))\\n\\nphone(iphone)\\n\\n\\n\\n\\n\\n    \\n\\n      \\n      ', '_i4': '#Do I have enough money to buy the latest smartphone\\ndef verdict(m1,m2,m3,m4=15000):\\n    total=m1+m2+m3\\n    if total>m4:\\n        print(\"you can get the new smartphone\")\\n    \\ngift=int(input(\"Gift money from family?\"))\\n\\nsaving=int(input(\"Savings\"))\\n\\ninternship=int(input(\"hard earned money\"))\\n\\nverdict(gift,saving,internship)\\n\\ndef phone(p1):\\n    \\n    total=897878\\n    if (p1>total):\\n        print(\"Congratulations! You can buy the latest Phone\")\\n    else:\\n        print(\"Save more money, and spend wisely\")\\n\\n\\n\\niphone=int(input(\"Enter the price of Iphone\"))\\n\\nphone(iphone)\\n\\n\\n\\n\\n\\n    \\n\\n      \\n      ', '_i5': '#Do I have enough money to buy the latest smartphone\\ndef verdict(m1,m2,m3,m4=15000):\\n    total=m1+m2+m3\\n    if total>m4:\\n        print(\"you can get the new smartphone\")\\n    \\ngift=int(input(\"Gift money from family?\"))\\n\\nsaving=int(input(\"Savings\"))\\n\\ninternship=int(input(\"hard earned money\"))\\n\\nverdict(gift,saving,internship,10000)\\n\\ndef phone(p1):\\n    \\n    total=897878\\n    if (p1>total):\\n        print(\"Congratulations! You can buy the latest Phone\")\\n    else:\\n        print(\"Save more money, and spend wisely\")\\n\\n\\n\\niphone=int(input(\"Enter the price of Iphone\"))\\n\\nphone(iphone)\\n\\n\\n\\n\\n\\n    \\n\\n      \\n      ', '_i6': '#Do I have enough money to buy the latest smartphone\\ndef verdict(m1,m2,m3,m4=15000):\\n    total=m1+m2+m3\\n    if total>m4:\\n        print(\"you can get the new smartphone\")\\'\\n    else:\\n        print(\"Better luck next time!\")\\n    \\ngift=int(input(\"Gift money from family?\"))\\n\\nsaving=int(input(\"Savings\"))\\n\\ninternship=int(input(\"hard earned money\"))\\n\\nverdict(gift,saving,internship,10000)\\n\\ndef phone(p1):\\n    \\n    total=897878\\n    if (p1>total):\\n        print(\"Congratulations! You can buy the latest Phone\")\\n    else:\\n        print(\"Save more money, and spend wisely\")\\n\\n\\n\\niphone=int(input(\"Enter the price of Iphone\"))\\n\\nphone(iphone)\\n\\n\\n\\n\\n\\n    \\n\\n      \\n      ', '_i7': '#Do I have enough money to buy the latest smartphone\\ndef verdict(m1,m2,m3,m4=15000):\\n    total=m1+m2+m3\\n    if total>m4:\\n        print(\"you can get the new smartphone\")\\n    else:\\n        print(\"Better luck next time!\")\\n    \\ngift=int(input(\"Gift money from family?\"))\\n\\nsaving=int(input(\"Savings\"))\\n\\ninternship=int(input(\"hard earned money\"))\\n\\nverdict(gift,saving,internship,10000)\\n\\ndef phone(p1):\\n    \\n    total=897878\\n    if (p1>total):\\n        print(\"Congratulations! You can buy the latest Phone\")\\n    else:\\n        print(\"Save more money, and spend wisely\")\\n\\n\\n\\niphone=int(input(\"Enter the price of Iphone\"))\\n\\nphone(iphone)\\n\\n\\n\\n\\n\\n    \\n\\n      \\n      ', '_i8': '#Do I have enough money to buy the latest smartphone\\ndef verdict(m1,m2,m3,m4=15000):\\n    total=m1+m2+m3\\n    if total>m4:\\n        print(\"you can get the new smartphone\")\\n    else:\\n        print(\"Better luck next time!\")\\n    \\ngift=int(input(\"Gift money from family?\"))\\n\\nsaving=int(input(\"Savings\"))\\n\\ninternship=int(input(\"hard earned money\"))\\n\\nverdict(gift,saving,internship,10000)\\n\\ndef phone(p1):\\n    \\n    total=897878\\n    if (p1>total):\\n        print(\"Congratulations! You can buy the latest Phone\")\\n    else:\\n        print(\"you have to Save more money, and spend wisely\")\\n\\n\\n\\niphone=int(input(\"Enter the price of Iphone\"))\\n\\nphone(iphone)\\n\\n\\n\\n\\n\\n    \\n\\n      \\n      ', '_i9': 'def myphone(brand, ram):\\n    print(\"I wish I had {} phone with {} GB of RAM \".format(brand,ram))\\n    return\\n    \\nmyphone(\"Google\",6)', 'myphone': <function myphone at 0x000001B81FDB2378>, '_i10': 'def myphone(brand, ram):\\n    print(\"I wish I had {} phone with {} GB of RAM \".format(brand,ram))\\n    return\\n    \\nmyphone(6,\"Google\")', '_i11': 'def myphone(brand, ram):\\n    print(\"I wish I had {} phone with {} GB of RAM \".format(brand,ram))\\n    return\\n    \\nmyphone(6,\"Google\")', '_i12': 'def myphone(brand, ram):\\n    print(\"I wish I had {:s} phone with {:d} GB of RAM \".format(brand,ram))\\n    return\\n    \\nmyphone(6,\"Google\")', '_i13': 'def myphone(brand, ram):\\n    print(\"I wish I had {:s} phone with {:d} GB of RAM \".format(brand,ram))\\n    return\\n    \\nmyphone(ram=6,brand=\"Google\")', '_i14': 'def myphone(brand, ram):\\n    print(\"I wish I had {:s} phone with {:d} GB of RAM \".format(brand,ram))\\n    return\\n    \\nmyphone(ram=6,brand=\"Google\")', '_i15': 'def myage(m1):\\n    m1=7\\n    print(\"My age  is\", m1)', 'myage': <function myage at 0x000001B81FDB27B8>, '_i16': 'def myage(m1):\\n    m1=7\\n    print(\"My age  is\", m1)\\nmyage(m1)', '_i17': 'def myage(m1):\\n    m1=7\\n    print(\"My age  is\", m1)\\nmyage()', '_i18': 'def myage(m1):\\n    m1=7\\n    print(\"My age  is\", m1)\\nmyage(m1)', '_i19': 'age=7\\ndef myage():\\n    age=7\\n    print(\"My age locally \",age)\\n    return\\nmyage()', 'age': 7, '_i20': 'age=7\\ndef myage():\\n    age=7\\n    print(\"My age locally \",age)\\n    return\\nmyage()\\n\\nprint(\" My age globally\", age)\\n#here the the variable age can be called globally or externally', '_i21': 'age=7\\ndef myage():\\n    age=12\\n    print(\"My age locally \",age)\\n    return\\nmyage()\\n\\nprint(\" My age globally\", age)\\n#here the the variable age can be called globally or externally', '_i22': 'age=7\\ndef myage():\\n    age=12\\n    print(\"My age locally \",age)\\n    return\\nmyage()\\n\\nprint(\" My age globally or outside the function\", age)\\n#here the the variable age can be called globally or externally', '_i23': 'age=7\\ndef myage():\\n    age=12\\n    print(\"My age locally \",age)\\n    return\\nmyage()\\n\\nprint(\" My age globally or outside the function\", age)\\n#here the the variable age can be called globally or externally', '_i24': 'alpha=1\\nbeta=2\\ngamma=3\\n\\nglobals()', 'alpha': 1, 'beta': 2, 'gamma': 3, '_24': {...}, '_i25': 'alpha=1\\nbeta=2\\ngamma=3\\n\\nprint(globals())', '_i26': 'alpha=1\\nbeta=2\\ngamma=3\\n\\nprint(globals())'}\n"
     ]
    }
   ],
   "source": [
    "alpha=1\n",
    "beta=2\n",
    "gamma=3\n",
    "\n",
    "print(globals())"
   ]
  },
  {
   "cell_type": "code",
   "execution_count": 28,
   "metadata": {},
   "outputs": [
    {
     "name": "stdout",
     "output_type": "stream",
     "text": [
      "My global variable age: 19\n",
      "My Global variable age is  21\n",
      "Local variable age 11\n",
      "Checking the global variable outside the function:  21\n"
     ]
    }
   ],
   "source": [
    "age=19\n",
    "def a():\n",
    "##    global age  // here we tell python to change the global variable inside the function\n",
    "\n",
    "    print(\"My global variable age:\",globals()['age'])\n",
    "    \n",
    "    #now modifying the global variable age inside the function\n",
    "    globals()['age']=21\n",
    "    \n",
    "    print(\"My Global variable age is \",globals()['age'])\n",
    "    \n",
    "    #now creating a local variable\n",
    "    age=11\n",
    "    print(\"Local variable age\", age)\n",
    "    return\n",
    "\n",
    "a()\n",
    "print(\"Checking the global variable outside the function: \",age)"
   ]
  },
  {
   "cell_type": "code",
   "execution_count": 30,
   "metadata": {},
   "outputs": [
    {
     "name": "stdout",
     "output_type": "stream",
     "text": [
      "My global variable age: 19\n",
      "My Global variable age is  21\n",
      "Local variable age 11\n",
      "Checking the global variable outside the function:  21\n"
     ]
    }
   ],
   "source": [
    "age=19\n",
    "def a():\n",
    "##    global age  // here we tell python to change the global variable inside the function\n",
    "\n",
    "    print(\"My global variable age:\",globals()['age'])\n",
    "    \n",
    "    #now modifying the global variable age inside the function\n",
    "    globals()['age']=21\n",
    "    \n",
    "    print(\"My Global variable age is \",globals()['age'])\n",
    "    \n",
    "    #now creating a local variable\n",
    "    age=11\n",
    "    print(\"Local variable age\", age)\n",
    "    return\n",
    "\n",
    "a()\n",
    "print(\"Checking the global variable outside the function: \",age)"
   ]
  },
  {
   "cell_type": "markdown",
   "metadata": {},
   "source": [
    "### Using Functions from Built in modules\n",
    "_os, random, math_"
   ]
  },
  {
   "cell_type": "code",
   "execution_count": 36,
   "metadata": {},
   "outputs": [
    {
     "ename": "FileExistsError",
     "evalue": "[WinError 183] Cannot create a file when that file already exists: 'd:\\\\Asif Bhai'",
     "output_type": "error",
     "traceback": [
      "\u001b[1;31m---------------------------------------------------------------------------\u001b[0m",
      "\u001b[1;31mFileExistsError\u001b[0m                           Traceback (most recent call last)",
      "\u001b[1;32m<ipython-input-36-10602e90b699>\u001b[0m in \u001b[0;36m<module>\u001b[1;34m()\u001b[0m\n\u001b[0;32m      1\u001b[0m \u001b[1;32mimport\u001b[0m \u001b[0mos\u001b[0m\u001b[1;33m\u001b[0m\u001b[0m\n\u001b[1;32m----> 2\u001b[1;33m \u001b[0mos\u001b[0m\u001b[1;33m.\u001b[0m\u001b[0mmkdir\u001b[0m\u001b[1;33m(\u001b[0m\u001b[1;34m\"d:\\\\Asif Bhai\"\u001b[0m\u001b[1;33m)\u001b[0m\u001b[1;33m\u001b[0m\u001b[0m\n\u001b[0m\u001b[0;32m      3\u001b[0m \u001b[0mos\u001b[0m\u001b[1;33m.\u001b[0m\u001b[0mchdir\u001b[0m\u001b[1;33m(\u001b[0m\u001b[1;34m\"..\"\u001b[0m\u001b[1;33m)\u001b[0m\u001b[1;33m\u001b[0m\u001b[0m\n",
      "\u001b[1;31mFileExistsError\u001b[0m: [WinError 183] Cannot create a file when that file already exists: 'd:\\\\Asif Bhai'"
     ]
    }
   ],
   "source": [
    "import os\n",
    "os.mkdir(\"d:\\\\Asif Bhai\")\n",
    "os.chdir(\"..\")"
   ]
  },
  {
   "cell_type": "code",
   "execution_count": 38,
   "metadata": {},
   "outputs": [
    {
     "data": {
      "text/plain": [
       "'C:\\\\Users\\\\Asif Naseem'"
      ]
     },
     "execution_count": 38,
     "metadata": {},
     "output_type": "execute_result"
    }
   ],
   "source": [
    "os.getcwd()"
   ]
  },
  {
   "cell_type": "code",
   "execution_count": 40,
   "metadata": {},
   "outputs": [
    {
     "ename": "FileExistsError",
     "evalue": "[WinError 183] Cannot create a file when that file already exists: 'd:\\\\ Ahaa'",
     "output_type": "error",
     "traceback": [
      "\u001b[1;31m---------------------------------------------------------------------------\u001b[0m",
      "\u001b[1;31mFileExistsError\u001b[0m                           Traceback (most recent call last)",
      "\u001b[1;32m<ipython-input-40-c7575ed2fc06>\u001b[0m in \u001b[0;36m<module>\u001b[1;34m()\u001b[0m\n\u001b[0;32m      1\u001b[0m \u001b[1;32mimport\u001b[0m \u001b[0mos\u001b[0m\u001b[1;33m\u001b[0m\u001b[0m\n\u001b[1;32m----> 2\u001b[1;33m \u001b[0mos\u001b[0m\u001b[1;33m.\u001b[0m\u001b[0mmkdir\u001b[0m\u001b[1;33m(\u001b[0m\u001b[1;34m\"d:\\\\ Ahaa\"\u001b[0m\u001b[1;33m)\u001b[0m\u001b[1;33m\u001b[0m\u001b[0m\n\u001b[0m",
      "\u001b[1;31mFileExistsError\u001b[0m: [WinError 183] Cannot create a file when that file already exists: 'd:\\\\ Ahaa'"
     ]
    }
   ],
   "source": [
    "import os\n",
    "os.mkdir(\"d:\\\\ Ahaa\")"
   ]
  },
  {
   "cell_type": "code",
   "execution_count": 41,
   "metadata": {},
   "outputs": [
    {
     "data": {
      "text/plain": [
       "'C:\\\\Users\\\\Asif Naseem'"
      ]
     },
     "execution_count": 41,
     "metadata": {},
     "output_type": "execute_result"
    }
   ],
   "source": [
    "os.getcwd()"
   ]
  },
  {
   "cell_type": "markdown",
   "metadata": {},
   "source": [
    " __os.mkdir(\"d:\\\\new folder \")__\n",
    " \n",
    " __os.chdir()__\n",
    " \n",
    " __os.rmdir()__\n",
    " \n",
    " __os.getcwd()__\n",
    " \n",
    " __os.listdir()__\n",
    " \n",
    " __os.chdir(\"..\")__ // when you want to change to parent directory"
   ]
  },
  {
   "cell_type": "markdown",
   "metadata": {},
   "source": [
    "## Random()"
   ]
  },
  {
   "cell_type": "code",
   "execution_count": 2,
   "metadata": {},
   "outputs": [
    {
     "data": {
      "text/plain": [
       "0.9735354661757514"
      ]
     },
     "execution_count": 2,
     "metadata": {},
     "output_type": "execute_result"
    }
   ],
   "source": [
    "import random\n",
    "random.random()"
   ]
  },
  {
   "cell_type": "code",
   "execution_count": 5,
   "metadata": {},
   "outputs": [
    {
     "data": {
      "text/plain": [
       "71"
      ]
     },
     "execution_count": 5,
     "metadata": {},
     "output_type": "execute_result"
    }
   ],
   "source": [
    "import random\n",
    "random.randint(1,200)"
   ]
  },
  {
   "cell_type": "code",
   "execution_count": 6,
   "metadata": {},
   "outputs": [
    {
     "data": {
      "text/plain": [
       "81"
      ]
     },
     "execution_count": 6,
     "metadata": {},
     "output_type": "execute_result"
    }
   ],
   "source": [
    "import random\n",
    "random.randrange(1,200,20)"
   ]
  },
  {
   "cell_type": "code",
   "execution_count": 7,
   "metadata": {},
   "outputs": [
    {
     "data": {
      "text/plain": [
       "'A'"
      ]
     },
     "execution_count": 7,
     "metadata": {},
     "output_type": "execute_result"
    }
   ],
   "source": [
    "import random\n",
    "random.choice(\"Asif nasim\")"
   ]
  },
  {
   "cell_type": "code",
   "execution_count": 8,
   "metadata": {},
   "outputs": [
    {
     "data": {
      "text/plain": [
       "7"
      ]
     },
     "execution_count": 8,
     "metadata": {},
     "output_type": "execute_result"
    }
   ],
   "source": [
    "import random\n",
    "random.choice([1,3,2,5,4,7])"
   ]
  },
  {
   "cell_type": "code",
   "execution_count": 9,
   "metadata": {},
   "outputs": [
    {
     "data": {
      "text/plain": [
       "[1, 2, 3, 5, 4, 7]"
      ]
     },
     "execution_count": 9,
     "metadata": {},
     "output_type": "execute_result"
    }
   ],
   "source": [
    "import random\n",
    "numbers=[1,3,2,5,4,7]\n",
    "random.shuffle(numbers)\n",
    "\n",
    "numbers"
   ]
  },
  {
   "cell_type": "markdown",
   "metadata": {},
   "source": [
    "## math()"
   ]
  },
  {
   "cell_type": "code",
   "execution_count": 93,
   "metadata": {},
   "outputs": [
    {
     "data": {
      "text/plain": [
       "3.141592653589793"
      ]
     },
     "execution_count": 93,
     "metadata": {},
     "output_type": "execute_result"
    }
   ],
   "source": [
    "import math\n",
    "math.radians(180)"
   ]
  },
  {
   "cell_type": "code",
   "execution_count": 95,
   "metadata": {},
   "outputs": [
    {
     "data": {
      "text/plain": [
       "3.141592653589793"
      ]
     },
     "execution_count": 95,
     "metadata": {},
     "output_type": "execute_result"
    }
   ],
   "source": [
    "import math\n",
    "math.pi"
   ]
  },
  {
   "cell_type": "code",
   "execution_count": 97,
   "metadata": {},
   "outputs": [
    {
     "data": {
      "text/plain": [
       "2.718281828459045"
      ]
     },
     "execution_count": 97,
     "metadata": {},
     "output_type": "execute_result"
    }
   ],
   "source": [
    "import math\n",
    "math.e"
   ]
  },
  {
   "cell_type": "code",
   "execution_count": 101,
   "metadata": {},
   "outputs": [
    {
     "data": {
      "text/plain": [
       "180.0"
      ]
     },
     "execution_count": 101,
     "metadata": {},
     "output_type": "execute_result"
    }
   ],
   "source": [
    "import math\n",
    "math.degrees(3.141592653589793)"
   ]
  },
  {
   "cell_type": "code",
   "execution_count": 103,
   "metadata": {},
   "outputs": [
    {
     "data": {
      "text/plain": [
       "360.0"
      ]
     },
     "execution_count": 103,
     "metadata": {},
     "output_type": "execute_result"
    }
   ],
   "source": [
    "import math\n",
    "math.degrees(2*math.pi)"
   ]
  },
  {
   "cell_type": "code",
   "execution_count": 114,
   "metadata": {},
   "outputs": [
    {
     "data": {
      "text/plain": [
       "0.5001360287832554"
      ]
     },
     "execution_count": 114,
     "metadata": {},
     "output_type": "execute_result"
    }
   ],
   "source": [
    "import math\n",
    "math.sin(math.radians(30.009))\n"
   ]
  },
  {
   "cell_type": "markdown",
   "metadata": {},
   "source": [
    "__Logarithmic function__\n",
    "\n",
    "_log()_\n",
    "\n",
    "_log10()_\n",
    "\n",
    "_exp()_\n",
    "\n",
    "_pow()_\n",
    "\n",
    "_sqrt()_"
   ]
  },
  {
   "cell_type": "code",
   "execution_count": 116,
   "metadata": {},
   "outputs": [
    {
     "data": {
      "text/plain": [
       "2.302585092994046"
      ]
     },
     "execution_count": 116,
     "metadata": {},
     "output_type": "execute_result"
    }
   ],
   "source": [
    "import math\n",
    "math.log(10)"
   ]
  },
  {
   "cell_type": "code",
   "execution_count": 119,
   "metadata": {},
   "outputs": [
    {
     "data": {
      "text/plain": [
       "2.0"
      ]
     },
     "execution_count": 119,
     "metadata": {},
     "output_type": "execute_result"
    }
   ],
   "source": [
    "import math\n",
    "math.log10(100)"
   ]
  },
  {
   "cell_type": "code",
   "execution_count": 121,
   "metadata": {},
   "outputs": [
    {
     "data": {
      "text/plain": [
       "81.0"
      ]
     },
     "execution_count": 121,
     "metadata": {},
     "output_type": "execute_result"
    }
   ],
   "source": [
    "import math\n",
    "math.pow(3,4)"
   ]
  },
  {
   "cell_type": "code",
   "execution_count": 123,
   "metadata": {},
   "outputs": [
    {
     "data": {
      "text/plain": [
       "7.38905609893065"
      ]
     },
     "execution_count": 123,
     "metadata": {},
     "output_type": "execute_result"
    }
   ],
   "source": [
    "import math\n",
    "math.exp(2)"
   ]
  },
  {
   "cell_type": "code",
   "execution_count": 125,
   "metadata": {},
   "outputs": [
    {
     "data": {
      "text/plain": [
       "18.0"
      ]
     },
     "execution_count": 125,
     "metadata": {},
     "output_type": "execute_result"
    }
   ],
   "source": [
    "import math\n",
    "math.sqrt(324)"
   ]
  },
  {
   "cell_type": "markdown",
   "metadata": {},
   "source": [
    "__Representation__"
   ]
  },
  {
   "cell_type": "code",
   "execution_count": 127,
   "metadata": {},
   "outputs": [
    {
     "data": {
      "text/plain": [
       "8"
      ]
     },
     "execution_count": 127,
     "metadata": {},
     "output_type": "execute_result"
    }
   ],
   "source": [
    "import math\n",
    "math.ceil(7.98)"
   ]
  },
  {
   "cell_type": "code",
   "execution_count": 129,
   "metadata": {},
   "outputs": [
    {
     "data": {
      "text/plain": [
       "7"
      ]
     },
     "execution_count": 129,
     "metadata": {},
     "output_type": "execute_result"
    }
   ],
   "source": [
    "import math\n",
    "math.floor(7.98)"
   ]
  },
  {
   "cell_type": "markdown",
   "metadata": {},
   "source": [
    "# Constructing Modules and Packages\n",
    "\n",
    "<p My name is asif "
   ]
  },
  {
   "cell_type": "markdown",
   "metadata": {},
   "source": [
    "_A module contain classes, function and other resources_"
   ]
  },
  {
   "cell_type": "code",
   "execution_count": 130,
   "metadata": {
    "collapsed": true
   },
   "outputs": [],
   "source": [
    "def food(f,num):\n",
    "    tip=0.1*f\n",
    "    f=f+tip\n",
    "    return f/num\n",
    "def movie(m,num):\n",
    "    return m/num\n"
   ]
  },
  {
   "cell_type": "code",
   "execution_count": 134,
   "metadata": {
    "scrolled": true
   },
   "outputs": [
    {
     "ename": "ModuleNotFoundError",
     "evalue": "No module named 'factorial'",
     "output_type": "error",
     "traceback": [
      "\u001b[1;31m---------------------------------------------------------------------------\u001b[0m",
      "\u001b[1;31mModuleNotFoundError\u001b[0m                       Traceback (most recent call last)",
      "\u001b[1;32m<ipython-input-134-652e61ea19a3>\u001b[0m in \u001b[0;36m<module>\u001b[1;34m()\u001b[0m\n\u001b[1;32m----> 1\u001b[1;33m \u001b[1;32mimport\u001b[0m \u001b[0mfactorial\u001b[0m\u001b[1;33m\u001b[0m\u001b[0m\n\u001b[0m\u001b[0;32m      2\u001b[0m \u001b[0mfactorial\u001b[0m\u001b[1;33m.\u001b[0m\u001b[0mmovie\u001b[0m\u001b[1;33m(\u001b[0m\u001b[1;36m1600\u001b[0m\u001b[1;33m,\u001b[0m\u001b[1;36m5\u001b[0m\u001b[1;33m)\u001b[0m\u001b[1;33m\u001b[0m\u001b[0m\n",
      "\u001b[1;31mModuleNotFoundError\u001b[0m: No module named 'factorial'"
     ]
    }
   ],
   "source": [
    "import factorial\n",
    "factorial.movie(1600,5)"
   ]
  },
  {
   "cell_type": "markdown",
   "metadata": {},
   "source": [
    "__module attributes__\n",
    "\n",
    "_ _dict_ _\n",
    "\n",
    "_ _file_ _\n",
    "\n",
    "_ _doc_ _\n",
    "\n",
    "_ _name_ _"
   ]
  },
  {
   "cell_type": "markdown",
   "metadata": {},
   "source": [
    "__name__ --> _agar import krenge to main main file ka naam aaega ar agar standalone run krenge to _ _main_ _ aaega"
   ]
  },
  {
   "cell_type": "markdown",
   "metadata": {},
   "source": [
    "__file__ --> _holds the name and path of the module file_"
   ]
  },
  {
   "cell_type": "markdown",
   "metadata": {},
   "source": [
    "__doc__ --> _holds the code code of that particular module_\n"
   ]
  },
  {
   "cell_type": "markdown",
   "metadata": {},
   "source": [
    "__dict__ --> _hold all the key value pairs_"
   ]
  },
  {
   "cell_type": "markdown",
   "metadata": {},
   "source": [
    "__dir__ --> _it returns all the function of the modules_"
   ]
  },
  {
   "cell_type": "markdown",
   "metadata": {},
   "source": [
    "_Calling the specific function from the module_\n",
    "\n",
    "from friends import food\n",
    "\n",
    "print(\"Food per person is\", food(2458,7))"
   ]
  },
  {
   "cell_type": "markdown",
   "metadata": {},
   "source": [
    "# Packages"
   ]
  },
  {
   "cell_type": "markdown",
   "metadata": {},
   "source": [
    "__A folder that contains aone or more modules__\n",
    "\n",
    "it must contain a special  file called _ _ init _ _"
   ]
  },
  {
   "cell_type": "code",
   "execution_count": 136,
   "metadata": {},
   "outputs": [
    {
     "ename": "SyntaxError",
     "evalue": "invalid syntax (<ipython-input-136-b1616bb56691>, line 6)",
     "output_type": "error",
     "traceback": [
      "\u001b[1;36m  File \u001b[1;32m\"<ipython-input-136-b1616bb56691>\"\u001b[1;36m, line \u001b[1;32m6\u001b[0m\n\u001b[1;33m    version 1.0,\u001b[0m\n\u001b[1;37m              ^\u001b[0m\n\u001b[1;31mSyntaxError\u001b[0m\u001b[1;31m:\u001b[0m invalid syntax\n"
     ]
    }
   ],
   "source": [
    "# how to make setup files\n",
    "\n",
    "from setuptools import setup\n",
    "\n",
    "setup (name='MyFriends',\n",
    "       version 1.0,\n",
    "description='A package to calc all the expences while hanging out'\n",
    "url='#',\n",
    "author='Clothyara'\n",
    "author_email='info@clothyara.com'\n",
    "        license='MIT'\n",
    "        packages=['MyFriends']\n",
    "zip_safe=False)\n"
   ]
  },
  {
   "cell_type": "markdown",
   "metadata": {},
   "source": [
    "1. Create a folder\n",
    "2. Create a sub-folder with the same name.\n",
    "3. place module files inside the sub-folder\n",
    "4. Create _ _ init _ _.py\n",
    "5. create a setup.py in the parent folder  \n",
    "\n",
    "installing package\n",
    "\n",
    "pip install .  //in the same directory"
   ]
  },
  {
   "cell_type": "markdown",
   "metadata": {},
   "source": [
    "# Object Oriented Programming Concepts"
   ]
  },
  {
   "cell_type": "code",
   "execution_count": 2,
   "metadata": {
    "collapsed": true
   },
   "outputs": [],
   "source": [
    "class person:\n",
    "    name='Asif'\n",
    "    gender='Male'\n",
    "    def showInfo(self):\n",
    "        print(\"Name: \",self.name)\n",
    "        print(\"Gender: \",self.gender)"
   ]
  },
  {
   "cell_type": "code",
   "execution_count": 4,
   "metadata": {},
   "outputs": [
    {
     "name": "stdout",
     "output_type": "stream",
     "text": [
      "Name:  Asif\n",
      "Gender:  Male\n"
     ]
    }
   ],
   "source": [
    "p1=person()\n",
    "p1.showInfo()"
   ]
  },
  {
   "cell_type": "code",
   "execution_count": 24,
   "metadata": {
    "collapsed": true
   },
   "outputs": [],
   "source": [
    "class person1:\n",
    "    #value of class attribute is shared by all objects\n",
    "    counter=0 #initialisation of the counter\n",
    "    def __init__(self,a,b):\n",
    "        self.name=a\n",
    "        self.gender=b\n",
    "        person1.counter+=1 #we have to increase the counter each time the object has been created\n",
    "    def showInfo(self):\n",
    "        print(\"Name :\", self.name)\n",
    "        print(\"Gender :\",self.gender)\n",
    "    @classmethod\n",
    "    def showCount(cls): # class method\n",
    "        print(\" Number of objects created so far:\", cls.counter)\n",
    "        \n",
    "        \n",
    "    "
   ]
  },
  {
   "cell_type": "code",
   "execution_count": 25,
   "metadata": {},
   "outputs": [
    {
     "name": "stdout",
     "output_type": "stream",
     "text": [
      "Name : Asif\n",
      "Gender : Male\n"
     ]
    }
   ],
   "source": [
    "p1=person1(\"Asif\", \"Male\")\n",
    "p1.showInfo()"
   ]
  },
  {
   "cell_type": "code",
   "execution_count": 19,
   "metadata": {},
   "outputs": [
    {
     "name": "stdout",
     "output_type": "stream",
     "text": [
      "Name : Phoenix\n",
      "Gender : Female\n"
     ]
    }
   ],
   "source": [
    "p2=person1(\"Phoenix\",\"Female\")\n",
    "p2.showInfo()"
   ]
  },
  {
   "cell_type": "code",
   "execution_count": 27,
   "metadata": {},
   "outputs": [
    {
     "name": "stdout",
     "output_type": "stream",
     "text": [
      "Name : Piyush\n",
      "Gender : Male\n"
     ]
    }
   ],
   "source": [
    "p3=person1(\"Piyush\",\"Male\")\n",
    "p3.showInfo()"
   ]
  },
  {
   "cell_type": "code",
   "execution_count": 29,
   "metadata": {},
   "outputs": [
    {
     "name": "stdout",
     "output_type": "stream",
     "text": [
      " Number of objects created so far: 3\n"
     ]
    }
   ],
   "source": [
    "person1.showCount()"
   ]
  },
  {
   "cell_type": "markdown",
   "metadata": {},
   "source": [
    "__Getter and Setter method__"
   ]
  },
  {
   "cell_type": "code",
   "execution_count": 62,
   "metadata": {
    "collapsed": true
   },
   "outputs": [],
   "source": [
    "class car:\n",
    "    \n",
    "    def __init__(self ,a=40):\n",
    "        self.set_speed(a)\n",
    "        \n",
    "    def get_speed(self):\n",
    "        return self._speed\n",
    "    \n",
    "    def set_speed(self,a): #which is used to change the variable of object\n",
    "        if a<=0 or a>=160:\n",
    "            print(\"Speed needs to be between 0 to 160\")\n",
    "        else:\n",
    "            self._speed=a\n",
    "    "
   ]
  },
  {
   "cell_type": "code",
   "execution_count": 65,
   "metadata": {},
   "outputs": [
    {
     "data": {
      "text/plain": [
       "40"
      ]
     },
     "execution_count": 65,
     "metadata": {},
     "output_type": "execute_result"
    }
   ],
   "source": [
    "c1=car()\n",
    "c1.get_speed()"
   ]
  },
  {
   "cell_type": "code",
   "execution_count": 67,
   "metadata": {},
   "outputs": [
    {
     "name": "stdout",
     "output_type": "stream",
     "text": [
      "Speed needs to be between 0 to 160\n"
     ]
    }
   ],
   "source": [
    "c1.set_speed(-39)"
   ]
  },
  {
   "cell_type": "markdown",
   "metadata": {},
   "source": [
    "__Property Function__"
   ]
  },
  {
   "cell_type": "markdown",
   "metadata": {},
   "source": [
    "_search on google_"
   ]
  },
  {
   "cell_type": "markdown",
   "metadata": {},
   "source": [
    "# Understanding Inheritence"
   ]
  },
  {
   "cell_type": "markdown",
   "metadata": {},
   "source": [
    "__SYNTAX__\n",
    "\n",
    "class parent:\n",
    "\n",
    "    statement1\n",
    "    statement2\n",
    "    \n",
    "class child(parent):\n",
    "\n",
    "    statement1\n",
    "    statement2"
   ]
  },
  {
   "cell_type": "code",
   "execution_count": 74,
   "metadata": {},
   "outputs": [
    {
     "ename": "SyntaxError",
     "evalue": "invalid syntax (<ipython-input-74-764455cf1039>, line 15)",
     "output_type": "error",
     "traceback": [
      "\u001b[1;36m  File \u001b[1;32m\"<ipython-input-74-764455cf1039>\"\u001b[1;36m, line \u001b[1;32m15\u001b[0m\n\u001b[1;33m    super().__init()__(a,b,c,d) # pass the parameter to its base class\u001b[0m\n\u001b[1;37m                     ^\u001b[0m\n\u001b[1;31mSyntaxError\u001b[0m\u001b[1;31m:\u001b[0m invalid syntax\n"
     ]
    }
   ],
   "source": [
    "#quadrilateral example\n",
    "\n",
    "class quadrilateral:\n",
    "    def __init__(self,a,b,c,d):\n",
    "        self.side1=a\n",
    "        self.side2=b\n",
    "        self.side3=c\n",
    "        self.side4=d\n",
    "    def perimeter(self):\n",
    "        peri=self.side1+self.side2+self.side3+self.side4\n",
    "        print(\"Perimeter=\",peri)\n",
    "        \n",
    "class rectangle(quadrilateral):\n",
    "    def __init__(self,a,b,c=None,d=None):\n",
    "        super().__init()__(a,b,c,d) # pass the parameter to its base class\n",
    "        self.side3=self.side1 \n",
    "        self.side4=self.side2"
   ]
  },
  {
   "cell_type": "markdown",
   "metadata": {},
   "source": [
    "lil bit of Doubt "
   ]
  },
  {
   "cell_type": "code",
   "execution_count": 1,
   "metadata": {},
   "outputs": [
    {
     "ename": "NameError",
     "evalue": "name 'quadrilateral' is not defined",
     "output_type": "error",
     "traceback": [
      "\u001b[1;31m---------------------------------------------------------------------------\u001b[0m",
      "\u001b[1;31mNameError\u001b[0m                                 Traceback (most recent call last)",
      "\u001b[1;32m<ipython-input-1-82ad31b9376c>\u001b[0m in \u001b[0;36m<module>\u001b[1;34m()\u001b[0m\n\u001b[1;32m----> 1\u001b[1;33m \u001b[0mq1\u001b[0m\u001b[1;33m=\u001b[0m\u001b[0mquadrilateral\u001b[0m\u001b[1;33m(\u001b[0m\u001b[1;36m2\u001b[0m\u001b[1;33m,\u001b[0m\u001b[1;36m3\u001b[0m\u001b[1;33m,\u001b[0m\u001b[1;36m4\u001b[0m\u001b[1;33m,\u001b[0m\u001b[1;36m5\u001b[0m\u001b[1;33m)\u001b[0m\u001b[1;33m\u001b[0m\u001b[0m\n\u001b[0m\u001b[0;32m      2\u001b[0m \u001b[0mq1\u001b[0m\u001b[1;33m.\u001b[0m\u001b[0mperimeter\u001b[0m\u001b[1;33m(\u001b[0m\u001b[1;33m)\u001b[0m\u001b[1;33m\u001b[0m\u001b[0m\n",
      "\u001b[1;31mNameError\u001b[0m: name 'quadrilateral' is not defined"
     ]
    }
   ],
   "source": [
    "q1=quadrilateral(2,3,4,5)\n",
    "q1.perimeter()"
   ]
  },
  {
   "cell_type": "code",
   "execution_count": 4,
   "metadata": {},
   "outputs": [
    {
     "name": "stdout",
     "output_type": "stream",
     "text": [
      "Total salary for <bound method Employee.getname of <__main__.Employee object at 0x0000019E74A50F60>> is Rs. 2000000\n"
     ]
    },
    {
     "ename": "TypeError",
     "evalue": "descriptor '__init__' requires a 'super' object but received a 'str'",
     "output_type": "error",
     "traceback": [
      "\u001b[1;31m---------------------------------------------------------------------------\u001b[0m",
      "\u001b[1;31mTypeError\u001b[0m                                 Traceback (most recent call last)",
      "\u001b[1;32m<ipython-input-4-0833e9b4e700>\u001b[0m in \u001b[0;36m<module>\u001b[1;34m()\u001b[0m\n\u001b[0;32m     22\u001b[0m \u001b[0mprint\u001b[0m\u001b[1;33m(\u001b[0m\u001b[1;34m\"Total salary for {} is Rs. {}\"\u001b[0m\u001b[1;33m.\u001b[0m\u001b[0mformat\u001b[0m\u001b[1;33m(\u001b[0m\u001b[0me1\u001b[0m\u001b[1;33m.\u001b[0m\u001b[0mgetname\u001b[0m\u001b[1;33m(\u001b[0m\u001b[1;33m)\u001b[0m\u001b[1;33m,\u001b[0m\u001b[0me1\u001b[0m\u001b[1;33m.\u001b[0m\u001b[0mgetsalary\u001b[0m\u001b[1;33m(\u001b[0m\u001b[1;33m)\u001b[0m\u001b[1;33m)\u001b[0m\u001b[1;33m)\u001b[0m\u001b[1;33m\u001b[0m\u001b[0m\n\u001b[0;32m     23\u001b[0m \u001b[1;33m\u001b[0m\u001b[0m\n\u001b[1;32m---> 24\u001b[1;33m \u001b[0ms1\u001b[0m\u001b[1;33m=\u001b[0m\u001b[0mSalesOfficer\u001b[0m\u001b[1;33m(\u001b[0m\u001b[1;34m\"hammad\"\u001b[0m\u001b[1;33m,\u001b[0m\u001b[1;36m200000\u001b[0m\u001b[1;33m,\u001b[0m\u001b[1;36m20000\u001b[0m\u001b[1;33m)\u001b[0m\u001b[1;33m\u001b[0m\u001b[0m\n\u001b[0m\u001b[0;32m     25\u001b[0m \u001b[0mprint\u001b[0m\u001b[1;33m(\u001b[0m\u001b[1;34m\"Total salary for {} is Rs. {}\"\u001b[0m\u001b[1;33m.\u001b[0m\u001b[0mformat\u001b[0m\u001b[1;33m(\u001b[0m\u001b[0ms1\u001b[0m\u001b[1;33m.\u001b[0m\u001b[0mgetname\u001b[0m\u001b[1;33m(\u001b[0m\u001b[1;33m)\u001b[0m\u001b[1;33m,\u001b[0m\u001b[0ms1\u001b[0m\u001b[1;33m.\u001b[0m\u001b[0mgetsalary\u001b[0m\u001b[1;33m(\u001b[0m\u001b[1;33m)\u001b[0m\u001b[1;33m)\u001b[0m\u001b[1;33m)\u001b[0m\u001b[1;33m\u001b[0m\u001b[0m\n\u001b[0;32m     26\u001b[0m \u001b[1;33m\u001b[0m\u001b[0m\n",
      "\u001b[1;32m<ipython-input-4-0833e9b4e700>\u001b[0m in \u001b[0;36m__init__\u001b[1;34m(self, nm, sal, inc)\u001b[0m\n\u001b[0;32m     12\u001b[0m \u001b[1;32mclass\u001b[0m \u001b[0mSalesOfficer\u001b[0m\u001b[1;33m(\u001b[0m\u001b[0memployee\u001b[0m\u001b[1;33m)\u001b[0m\u001b[1;33m:\u001b[0m\u001b[1;33m\u001b[0m\u001b[0m\n\u001b[0;32m     13\u001b[0m     \u001b[1;32mdef\u001b[0m \u001b[0m__init__\u001b[0m\u001b[1;33m(\u001b[0m\u001b[0mself\u001b[0m\u001b[1;33m,\u001b[0m\u001b[0mnm\u001b[0m\u001b[1;33m,\u001b[0m\u001b[0msal\u001b[0m\u001b[1;33m,\u001b[0m\u001b[0minc\u001b[0m\u001b[1;33m)\u001b[0m\u001b[1;33m:\u001b[0m\u001b[1;33m\u001b[0m\u001b[0m\n\u001b[1;32m---> 14\u001b[1;33m         \u001b[0msuper\u001b[0m\u001b[1;33m.\u001b[0m\u001b[0m__init__\u001b[0m\u001b[1;33m(\u001b[0m\u001b[0mnm\u001b[0m\u001b[1;33m,\u001b[0m \u001b[0msal\u001b[0m\u001b[1;33m)\u001b[0m\u001b[1;33m\u001b[0m\u001b[0m\n\u001b[0m\u001b[0;32m     15\u001b[0m         \u001b[0mself\u001b[0m\u001b[1;33m.\u001b[0m\u001b[0mincnt\u001b[0m\u001b[1;33m=\u001b[0m\u001b[0minc\u001b[0m\u001b[1;33m\u001b[0m\u001b[0m\n\u001b[0;32m     16\u001b[0m     \u001b[1;32mdef\u001b[0m \u001b[0mgetsalary\u001b[0m\u001b[1;33m(\u001b[0m\u001b[0mself\u001b[0m\u001b[1;33m)\u001b[0m\u001b[1;33m:\u001b[0m\u001b[1;33m\u001b[0m\u001b[0m\n",
      "\u001b[1;31mTypeError\u001b[0m: descriptor '__init__' requires a 'super' object but received a 'str'"
     ]
    }
   ],
   "source": [
    "#example of function overriding\n",
    "class Employee:\n",
    "    def __init__(self,nm,sal):\n",
    "        self.name=nm\n",
    "        self.salary=sal\n",
    "    def getname(self):\n",
    "        return self.getname\n",
    "    \n",
    "    def getsalary(self):\n",
    "        return self.salary\n",
    "    \n",
    "class SalesOfficer(employee):\n",
    "    def __init__(self,nm,sal,inc):\n",
    "        super.__init__(nm, sal)\n",
    "        self.incnt=inc\n",
    "    def getsalary(self):\n",
    "        return self.getsalary + self.incnt\n",
    "\n",
    "#main\n",
    "\n",
    "e1=Employee(\"Asif\", 2000000)\n",
    "print(\"Total salary for {} is Rs. {}\".format(e1.getname(),e1.getsalary()))\n",
    "\n",
    "s1=SalesOfficer(\"hammad\",200000,20000)\n",
    "print(\"Total salary for {} is Rs. {}\".format(s1.getname(),s1.getsalary()))\n",
    "\n"
   ]
  },
  {
   "cell_type": "markdown",
   "metadata": {},
   "source": [
    "__The above code is totally fine, you just have to run this code in any other Python IDE__"
   ]
  },
  {
   "cell_type": "markdown",
   "metadata": {},
   "source": [
    "## Variables"
   ]
  },
  {
   "cell_type": "markdown",
   "metadata": {},
   "source": [
    "_private variables are also known as protected variables_\n",
    "\n",
    "_whereas strongly private variables are also known as private variables_"
   ]
  },
  {
   "cell_type": "code",
   "execution_count": 7,
   "metadata": {},
   "outputs": [
    {
     "ename": "SyntaxError",
     "evalue": "invalid syntax (<ipython-input-7-28918b927400>, line 1)",
     "output_type": "error",
     "traceback": [
      "\u001b[1;36m  File \u001b[1;32m\"<ipython-input-7-28918b927400>\"\u001b[1;36m, line \u001b[1;32m1\u001b[0m\n\u001b[1;33m    _protected variables\u001b[0m\n\u001b[1;37m                       ^\u001b[0m\n\u001b[1;31mSyntaxError\u001b[0m\u001b[1;31m:\u001b[0m invalid syntax\n"
     ]
    }
   ],
   "source": [
    "_protected variables\n",
    "\n",
    "__private variables"
   ]
  },
  {
   "cell_type": "markdown",
   "metadata": {},
   "source": [
    "## Magic Methods"
   ]
  },
  {
   "cell_type": "markdown",
   "metadata": {},
   "source": [
    "__Overloading operators__"
   ]
  },
  {
   "cell_type": "markdown",
   "metadata": {},
   "source": [
    "_Every class has parent class known as object_"
   ]
  },
  {
   "cell_type": "markdown",
   "metadata": {},
   "source": [
    "__init__\n",
    "\n",
    "__new__\n",
    "\n",
    "__str__"
   ]
  },
  {
   "cell_type": "code",
   "execution_count": 1,
   "metadata": {},
   "outputs": [
    {
     "ename": "NameError",
     "evalue": "name 'd3' is not defined",
     "output_type": "error",
     "traceback": [
      "\u001b[1;31m---------------------------------------------------------------------------\u001b[0m",
      "\u001b[1;31mNameError\u001b[0m                                 Traceback (most recent call last)",
      "\u001b[1;32m<ipython-input-1-d70f4fb8e248>\u001b[0m in \u001b[0;36m<module>\u001b[1;34m()\u001b[0m\n\u001b[0;32m     16\u001b[0m \u001b[0md1\u001b[0m\u001b[1;33m=\u001b[0m\u001b[0mDistance\u001b[0m\u001b[1;33m(\u001b[0m\u001b[1;36m9\u001b[0m\u001b[1;33m,\u001b[0m\u001b[1;36m8\u001b[0m\u001b[1;33m)\u001b[0m\u001b[1;33m\u001b[0m\u001b[0m\n\u001b[0;32m     17\u001b[0m \u001b[0md2\u001b[0m\u001b[1;33m=\u001b[0m\u001b[0mDistance\u001b[0m\u001b[1;33m(\u001b[0m\u001b[1;36m3\u001b[0m\u001b[1;33m,\u001b[0m\u001b[1;36m5\u001b[0m\u001b[1;33m)\u001b[0m\u001b[1;33m\u001b[0m\u001b[0m\n\u001b[1;32m---> 18\u001b[1;33m \u001b[0md3\u001b[0m\u001b[1;33m+\u001b[0m\u001b[0md1\u001b[0m\u001b[1;33m+\u001b[0m\u001b[0md2\u001b[0m\u001b[1;33m\u001b[0m\u001b[0m\n\u001b[0m",
      "\u001b[1;31mNameError\u001b[0m: name 'd3' is not defined"
     ]
    }
   ],
   "source": [
    "class Distance:\n",
    "    def __init__(self,x,y):\n",
    "        self.feet=x\n",
    "        self.inches=y\n",
    "    def __add__(self, other):\n",
    "        final_feet=self.feet+other.feet\n",
    "        final_inches=self.inches+other.inches\n",
    "        \n",
    "        if final_feet>=12:\n",
    "            final_feet+=1\n",
    "            final_inches-=12 \n",
    "        return Distance(final_feet,final_inches)\n",
    "    def __str__(self):\n",
    "        return \"Distance: \"+str(self.feet)+\"feet and\"+str(self.inches)+\"inches\"\n",
    "\n",
    "d1=Distance(9,8)\n",
    "d2=Distance(3,5)\n",
    "d3+d1+d2"
   ]
  },
  {
   "cell_type": "markdown",
   "metadata": {},
   "source": [
    "__this is magic methods__"
   ]
  }
 ],
 "metadata": {
  "kernelspec": {
   "display_name": "Python 3",
   "language": "python",
   "name": "python3"
  },
  "language_info": {
   "codemirror_mode": {
    "name": "ipython",
    "version": 3
   },
   "file_extension": ".py",
   "mimetype": "text/x-python",
   "name": "python",
   "nbconvert_exporter": "python",
   "pygments_lexer": "ipython3",
   "version": "3.6.1"
  },
  "widgets": {
   "application/vnd.jupyter.widget-state+json": {
    "state": {},
    "version_major": 1,
    "version_minor": 0
   }
  }
 },
 "nbformat": 4,
 "nbformat_minor": 2
}
